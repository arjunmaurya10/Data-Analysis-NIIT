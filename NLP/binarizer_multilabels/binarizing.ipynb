{
 "cells": [
  {
   "cell_type": "code",
   "execution_count": 1,
   "id": "44e9f5d0",
   "metadata": {},
   "outputs": [],
   "source": [
    "import pandas as pd\n",
    "from sklearn.model_selection import train_test_split\n",
    "from sklearn.linear_model import LogisticRegression\n",
    "from sklearn.preprocessing import Binarizer, MultiLabelBinarizer\n",
    "import warnings\n",
    "warnings.filterwarnings('ignore')"
   ]
  },
  {
   "cell_type": "markdown",
   "id": "09b3dd94",
   "metadata": {},
   "source": [
    "### demo : 1"
   ]
  },
  {
   "cell_type": "code",
   "execution_count": 2,
   "id": "83af0952",
   "metadata": {},
   "outputs": [],
   "source": [
    "data = {\"gap\": [-1,-4,-2],\n",
    "       \"diff\": [5,3,6]}"
   ]
  },
  {
   "cell_type": "code",
   "execution_count": 3,
   "id": "d67e3717",
   "metadata": {},
   "outputs": [],
   "source": [
    "df = pd.DataFrame(data)"
   ]
  },
  {
   "cell_type": "code",
   "execution_count": 4,
   "id": "adc6088e",
   "metadata": {},
   "outputs": [
    {
     "data": {
      "text/html": [
       "<div>\n",
       "<style scoped>\n",
       "    .dataframe tbody tr th:only-of-type {\n",
       "        vertical-align: middle;\n",
       "    }\n",
       "\n",
       "    .dataframe tbody tr th {\n",
       "        vertical-align: top;\n",
       "    }\n",
       "\n",
       "    .dataframe thead th {\n",
       "        text-align: right;\n",
       "    }\n",
       "</style>\n",
       "<table border=\"1\" class=\"dataframe\">\n",
       "  <thead>\n",
       "    <tr style=\"text-align: right;\">\n",
       "      <th></th>\n",
       "      <th>gap</th>\n",
       "      <th>diff</th>\n",
       "    </tr>\n",
       "  </thead>\n",
       "  <tbody>\n",
       "    <tr>\n",
       "      <th>0</th>\n",
       "      <td>-1</td>\n",
       "      <td>5</td>\n",
       "    </tr>\n",
       "    <tr>\n",
       "      <th>1</th>\n",
       "      <td>-4</td>\n",
       "      <td>3</td>\n",
       "    </tr>\n",
       "    <tr>\n",
       "      <th>2</th>\n",
       "      <td>-2</td>\n",
       "      <td>6</td>\n",
       "    </tr>\n",
       "  </tbody>\n",
       "</table>\n",
       "</div>"
      ],
      "text/plain": [
       "   gap  diff\n",
       "0   -1     5\n",
       "1   -4     3\n",
       "2   -2     6"
      ]
     },
     "execution_count": 4,
     "metadata": {},
     "output_type": "execute_result"
    }
   ],
   "source": [
    "df"
   ]
  },
  {
   "cell_type": "code",
   "execution_count": 5,
   "id": "760a9990",
   "metadata": {},
   "outputs": [],
   "source": [
    "binarizer = Binarizer(threshold=0)\n",
    "bin_data = binarizer.transform(df)"
   ]
  },
  {
   "cell_type": "code",
   "execution_count": 6,
   "id": "780f0cc1",
   "metadata": {},
   "outputs": [],
   "source": [
    "df1 = pd.DataFrame(bin_data, columns=df.columns)"
   ]
  },
  {
   "cell_type": "code",
   "execution_count": 7,
   "id": "1563dc44",
   "metadata": {},
   "outputs": [
    {
     "data": {
      "text/html": [
       "<div>\n",
       "<style scoped>\n",
       "    .dataframe tbody tr th:only-of-type {\n",
       "        vertical-align: middle;\n",
       "    }\n",
       "\n",
       "    .dataframe tbody tr th {\n",
       "        vertical-align: top;\n",
       "    }\n",
       "\n",
       "    .dataframe thead th {\n",
       "        text-align: right;\n",
       "    }\n",
       "</style>\n",
       "<table border=\"1\" class=\"dataframe\">\n",
       "  <thead>\n",
       "    <tr style=\"text-align: right;\">\n",
       "      <th></th>\n",
       "      <th>gap</th>\n",
       "      <th>diff</th>\n",
       "    </tr>\n",
       "  </thead>\n",
       "  <tbody>\n",
       "    <tr>\n",
       "      <th>0</th>\n",
       "      <td>0</td>\n",
       "      <td>1</td>\n",
       "    </tr>\n",
       "    <tr>\n",
       "      <th>1</th>\n",
       "      <td>0</td>\n",
       "      <td>1</td>\n",
       "    </tr>\n",
       "    <tr>\n",
       "      <th>2</th>\n",
       "      <td>0</td>\n",
       "      <td>1</td>\n",
       "    </tr>\n",
       "  </tbody>\n",
       "</table>\n",
       "</div>"
      ],
      "text/plain": [
       "   gap  diff\n",
       "0    0     1\n",
       "1    0     1\n",
       "2    0     1"
      ]
     },
     "execution_count": 7,
     "metadata": {},
     "output_type": "execute_result"
    }
   ],
   "source": [
    "df1"
   ]
  },
  {
   "cell_type": "code",
   "execution_count": 8,
   "id": "b7a62e58",
   "metadata": {},
   "outputs": [],
   "source": [
    "data = [['Handball', 'Baseball', 'Football'],\n",
    "        ['Volleyball', 'Football', 'Baseball'],\n",
    "        ['Handball', 'Noball','Softball']\n",
    "        ]"
   ]
  },
  {
   "cell_type": "code",
   "execution_count": 9,
   "id": "1e67faea",
   "metadata": {},
   "outputs": [],
   "source": [
    "df_sp= pd.DataFrame(data, columns = ['S1', 'S2', 'S3'])"
   ]
  },
  {
   "cell_type": "code",
   "execution_count": 10,
   "id": "d3c371ed",
   "metadata": {},
   "outputs": [
    {
     "data": {
      "text/html": [
       "<div>\n",
       "<style scoped>\n",
       "    .dataframe tbody tr th:only-of-type {\n",
       "        vertical-align: middle;\n",
       "    }\n",
       "\n",
       "    .dataframe tbody tr th {\n",
       "        vertical-align: top;\n",
       "    }\n",
       "\n",
       "    .dataframe thead th {\n",
       "        text-align: right;\n",
       "    }\n",
       "</style>\n",
       "<table border=\"1\" class=\"dataframe\">\n",
       "  <thead>\n",
       "    <tr style=\"text-align: right;\">\n",
       "      <th></th>\n",
       "      <th>S1</th>\n",
       "      <th>S2</th>\n",
       "      <th>S3</th>\n",
       "    </tr>\n",
       "  </thead>\n",
       "  <tbody>\n",
       "    <tr>\n",
       "      <th>0</th>\n",
       "      <td>Handball</td>\n",
       "      <td>Baseball</td>\n",
       "      <td>Football</td>\n",
       "    </tr>\n",
       "    <tr>\n",
       "      <th>1</th>\n",
       "      <td>Volleyball</td>\n",
       "      <td>Football</td>\n",
       "      <td>Baseball</td>\n",
       "    </tr>\n",
       "    <tr>\n",
       "      <th>2</th>\n",
       "      <td>Handball</td>\n",
       "      <td>Noball</td>\n",
       "      <td>Softball</td>\n",
       "    </tr>\n",
       "  </tbody>\n",
       "</table>\n",
       "</div>"
      ],
      "text/plain": [
       "           S1        S2        S3\n",
       "0    Handball  Baseball  Football\n",
       "1  Volleyball  Football  Baseball\n",
       "2    Handball    Noball  Softball"
      ]
     },
     "execution_count": 10,
     "metadata": {},
     "output_type": "execute_result"
    }
   ],
   "source": [
    "df_sp"
   ]
  },
  {
   "cell_type": "code",
   "execution_count": 11,
   "id": "77e8d672",
   "metadata": {},
   "outputs": [],
   "source": [
    "binarize = MultiLabelBinarizer()\n",
    "bindata = binarize.fit_transform(df_sp.values)"
   ]
  },
  {
   "cell_type": "code",
   "execution_count": 12,
   "id": "a14224b9",
   "metadata": {},
   "outputs": [],
   "source": [
    "df_sp1 = pd.DataFrame(bindata, columns=binarize.classes_)"
   ]
  },
  {
   "cell_type": "code",
   "execution_count": 13,
   "id": "de636a4b",
   "metadata": {},
   "outputs": [
    {
     "data": {
      "text/html": [
       "<div>\n",
       "<style scoped>\n",
       "    .dataframe tbody tr th:only-of-type {\n",
       "        vertical-align: middle;\n",
       "    }\n",
       "\n",
       "    .dataframe tbody tr th {\n",
       "        vertical-align: top;\n",
       "    }\n",
       "\n",
       "    .dataframe thead th {\n",
       "        text-align: right;\n",
       "    }\n",
       "</style>\n",
       "<table border=\"1\" class=\"dataframe\">\n",
       "  <thead>\n",
       "    <tr style=\"text-align: right;\">\n",
       "      <th></th>\n",
       "      <th>Baseball</th>\n",
       "      <th>Football</th>\n",
       "      <th>Handball</th>\n",
       "      <th>Noball</th>\n",
       "      <th>Softball</th>\n",
       "      <th>Volleyball</th>\n",
       "    </tr>\n",
       "  </thead>\n",
       "  <tbody>\n",
       "    <tr>\n",
       "      <th>0</th>\n",
       "      <td>1</td>\n",
       "      <td>1</td>\n",
       "      <td>1</td>\n",
       "      <td>0</td>\n",
       "      <td>0</td>\n",
       "      <td>0</td>\n",
       "    </tr>\n",
       "    <tr>\n",
       "      <th>1</th>\n",
       "      <td>1</td>\n",
       "      <td>1</td>\n",
       "      <td>0</td>\n",
       "      <td>0</td>\n",
       "      <td>0</td>\n",
       "      <td>1</td>\n",
       "    </tr>\n",
       "    <tr>\n",
       "      <th>2</th>\n",
       "      <td>0</td>\n",
       "      <td>0</td>\n",
       "      <td>1</td>\n",
       "      <td>1</td>\n",
       "      <td>1</td>\n",
       "      <td>0</td>\n",
       "    </tr>\n",
       "  </tbody>\n",
       "</table>\n",
       "</div>"
      ],
      "text/plain": [
       "   Baseball  Football  Handball  Noball  Softball  Volleyball\n",
       "0         1         1         1       0         0           0\n",
       "1         1         1         0       0         0           1\n",
       "2         0         0         1       1         1           0"
      ]
     },
     "execution_count": 13,
     "metadata": {},
     "output_type": "execute_result"
    }
   ],
   "source": [
    "df_sp1\n"
   ]
  },
  {
   "cell_type": "markdown",
   "id": "b13bba3b",
   "metadata": {},
   "source": [
    "# One vs Rest Classifier on Multi Class"
   ]
  },
  {
   "cell_type": "code",
   "execution_count": 224,
   "id": "c7df82d1",
   "metadata": {},
   "outputs": [],
   "source": [
    "data1 = [{ 'movieplot': 'An NYPD officer tries to save his wife and others taken hostage by terrorists during a Christmas party.', 'label':['action','animation']},\n",
    " {'movieplot': 'In a restaurant, a rat who can cook and a young kitchen worker form an unusual team.', 'label': ['animation', 'action']},\n",
    " {'movieplot': 'A dancer lands the lead role in a production of \"Swan Lake\" and then has to fight for her sanity.', 'label':['drama','animation']    \n",
    "}]"
   ]
  },
  {
   "cell_type": "code",
   "execution_count": 225,
   "id": "89765eb0",
   "metadata": {},
   "outputs": [],
   "source": [
    "# mve_df = pd.DataFrame(list(data1.items()), columns=['movieplot', 'label'])\n",
    "mve_df = pd.DataFrame(data1)"
   ]
  },
  {
   "cell_type": "code",
   "execution_count": 226,
   "id": "fa3e1188",
   "metadata": {},
   "outputs": [
    {
     "data": {
      "text/html": [
       "<div>\n",
       "<style scoped>\n",
       "    .dataframe tbody tr th:only-of-type {\n",
       "        vertical-align: middle;\n",
       "    }\n",
       "\n",
       "    .dataframe tbody tr th {\n",
       "        vertical-align: top;\n",
       "    }\n",
       "\n",
       "    .dataframe thead th {\n",
       "        text-align: right;\n",
       "    }\n",
       "</style>\n",
       "<table border=\"1\" class=\"dataframe\">\n",
       "  <thead>\n",
       "    <tr style=\"text-align: right;\">\n",
       "      <th></th>\n",
       "      <th>movieplot</th>\n",
       "      <th>label</th>\n",
       "    </tr>\n",
       "  </thead>\n",
       "  <tbody>\n",
       "    <tr>\n",
       "      <th>0</th>\n",
       "      <td>An NYPD officer tries to save his wife and oth...</td>\n",
       "      <td>[action, animation]</td>\n",
       "    </tr>\n",
       "    <tr>\n",
       "      <th>1</th>\n",
       "      <td>In a restaurant, a rat who can cook and a youn...</td>\n",
       "      <td>[animation, action]</td>\n",
       "    </tr>\n",
       "    <tr>\n",
       "      <th>2</th>\n",
       "      <td>A dancer lands the lead role in a production o...</td>\n",
       "      <td>[drama, animation]</td>\n",
       "    </tr>\n",
       "  </tbody>\n",
       "</table>\n",
       "</div>"
      ],
      "text/plain": [
       "                                           movieplot                label\n",
       "0  An NYPD officer tries to save his wife and oth...  [action, animation]\n",
       "1  In a restaurant, a rat who can cook and a youn...  [animation, action]\n",
       "2  A dancer lands the lead role in a production o...   [drama, animation]"
      ]
     },
     "execution_count": 226,
     "metadata": {},
     "output_type": "execute_result"
    }
   ],
   "source": [
    "mve_df"
   ]
  },
  {
   "cell_type": "code",
   "execution_count": 227,
   "id": "65ba477a",
   "metadata": {},
   "outputs": [
    {
     "data": {
      "text/plain": [
       "0    [action, animation]\n",
       "1    [animation, action]\n",
       "2     [drama, animation]\n",
       "Name: label, dtype: object"
      ]
     },
     "execution_count": 227,
     "metadata": {},
     "output_type": "execute_result"
    }
   ],
   "source": [
    "mve_df.label"
   ]
  },
  {
   "cell_type": "code",
   "execution_count": 228,
   "id": "ffcda0bb",
   "metadata": {},
   "outputs": [],
   "source": [
    "mlb = MultiLabelBinarizer()"
   ]
  },
  {
   "cell_type": "code",
   "execution_count": 229,
   "id": "4bffaaad",
   "metadata": {},
   "outputs": [],
   "source": [
    "trgt_lbl = mlb.fit_transform(mve_df['label'])"
   ]
  },
  {
   "cell_type": "code",
   "execution_count": 230,
   "id": "19059502",
   "metadata": {},
   "outputs": [],
   "source": [
    "bin_df = pd.DataFrame(trgt_lbl, columns= mlb.classes_)"
   ]
  },
  {
   "cell_type": "code",
   "execution_count": 231,
   "id": "2a53be84",
   "metadata": {},
   "outputs": [
    {
     "data": {
      "text/html": [
       "<div>\n",
       "<style scoped>\n",
       "    .dataframe tbody tr th:only-of-type {\n",
       "        vertical-align: middle;\n",
       "    }\n",
       "\n",
       "    .dataframe tbody tr th {\n",
       "        vertical-align: top;\n",
       "    }\n",
       "\n",
       "    .dataframe thead th {\n",
       "        text-align: right;\n",
       "    }\n",
       "</style>\n",
       "<table border=\"1\" class=\"dataframe\">\n",
       "  <thead>\n",
       "    <tr style=\"text-align: right;\">\n",
       "      <th></th>\n",
       "      <th>action</th>\n",
       "      <th>animation</th>\n",
       "      <th>drama</th>\n",
       "    </tr>\n",
       "  </thead>\n",
       "  <tbody>\n",
       "    <tr>\n",
       "      <th>0</th>\n",
       "      <td>1</td>\n",
       "      <td>1</td>\n",
       "      <td>0</td>\n",
       "    </tr>\n",
       "    <tr>\n",
       "      <th>1</th>\n",
       "      <td>1</td>\n",
       "      <td>1</td>\n",
       "      <td>0</td>\n",
       "    </tr>\n",
       "    <tr>\n",
       "      <th>2</th>\n",
       "      <td>0</td>\n",
       "      <td>1</td>\n",
       "      <td>1</td>\n",
       "    </tr>\n",
       "  </tbody>\n",
       "</table>\n",
       "</div>"
      ],
      "text/plain": [
       "   action  animation  drama\n",
       "0       1          1      0\n",
       "1       1          1      0\n",
       "2       0          1      1"
      ]
     },
     "execution_count": 231,
     "metadata": {},
     "output_type": "execute_result"
    }
   ],
   "source": [
    "bin_df"
   ]
  },
  {
   "cell_type": "code",
   "execution_count": 232,
   "id": "2ed3f8ea",
   "metadata": {},
   "outputs": [],
   "source": [
    "tfidf_vect = TfidfVectorizer()"
   ]
  },
  {
   "cell_type": "code",
   "execution_count": 233,
   "id": "ca832673",
   "metadata": {},
   "outputs": [],
   "source": [
    "X =  mve_df['movieplot']\n",
    "y = mve_df.label "
   ]
  },
  {
   "cell_type": "code",
   "execution_count": 234,
   "id": "898f1cc7",
   "metadata": {},
   "outputs": [],
   "source": [
    "from sklearn.feature_extraction.text import TfidfVectorizer\n",
    "from sklearn.multiclass import OneVsRestClassifier"
   ]
  },
  {
   "cell_type": "code",
   "execution_count": 235,
   "id": "1fa78dcd",
   "metadata": {},
   "outputs": [],
   "source": [
    "train_x, test_x, train_y, test_y = train_test_split(X,trgt_lbl, test_size=0.2, random_state=42)"
   ]
  },
  {
   "cell_type": "code",
   "execution_count": 236,
   "id": "ea5cd44d",
   "metadata": {},
   "outputs": [],
   "source": [
    "# tfidf_vect = TfidfVectorizer()\n",
    "train_x = tfidf_vect.fit_transform(train_x)\n",
    "test_x = tfidf_vect.transform(test_x)"
   ]
  },
  {
   "cell_type": "code",
   "execution_count": 237,
   "id": "0369a59b",
   "metadata": {},
   "outputs": [],
   "source": [
    "model = LogisticRegression(max_iter=100,verbose=1)\n",
    "classfier = OneVsRestClassifier(model)"
   ]
  },
  {
   "cell_type": "code",
   "execution_count": 238,
   "id": "af64d6d0",
   "metadata": {},
   "outputs": [
    {
     "name": "stderr",
     "output_type": "stream",
     "text": [
      "[Parallel(n_jobs=1)]: Using backend SequentialBackend with 1 concurrent workers.\n",
      "[Parallel(n_jobs=1)]: Done   1 out of   1 | elapsed:    0.0s finished\n",
      "[Parallel(n_jobs=1)]: Using backend SequentialBackend with 1 concurrent workers.\n",
      "[Parallel(n_jobs=1)]: Done   1 out of   1 | elapsed:    0.0s finished\n"
     ]
    },
    {
     "data": {
      "text/plain": [
       "OneVsRestClassifier(estimator=LogisticRegression(verbose=1))"
      ]
     },
     "execution_count": 238,
     "metadata": {},
     "output_type": "execute_result"
    }
   ],
   "source": [
    "classfier.fit(train_x, train_y)"
   ]
  },
  {
   "cell_type": "code",
   "execution_count": 239,
   "id": "2fd9d96f",
   "metadata": {},
   "outputs": [],
   "source": [
    "y_pred = classfier.predict(test_x)"
   ]
  },
  {
   "cell_type": "code",
   "execution_count": 240,
   "id": "bf14ec07",
   "metadata": {},
   "outputs": [
    {
     "name": "stdout",
     "output_type": "stream",
     "text": [
      "[[1 1 0]]\n"
     ]
    }
   ],
   "source": [
    "print(y_pred)"
   ]
  },
  {
   "cell_type": "code",
   "execution_count": 245,
   "id": "57a7823f",
   "metadata": {},
   "outputs": [],
   "source": [
    "yprd_lbl = mlb.inverse_transform(y_pred)"
   ]
  },
  {
   "cell_type": "code",
   "execution_count": 248,
   "id": "43e5412c",
   "metadata": {},
   "outputs": [],
   "source": [
    "ytest_lbl = mlb.inverse_transform(test_y)"
   ]
  },
  {
   "cell_type": "code",
   "execution_count": 249,
   "id": "b0bee767",
   "metadata": {},
   "outputs": [
    {
     "data": {
      "text/plain": [
       "[('action', 'animation')]"
      ]
     },
     "execution_count": 249,
     "metadata": {},
     "output_type": "execute_result"
    }
   ],
   "source": [
    "yprd_lbl"
   ]
  },
  {
   "cell_type": "code",
   "execution_count": 250,
   "id": "29398c99",
   "metadata": {},
   "outputs": [
    {
     "data": {
      "text/plain": [
       "[('action', 'animation')]"
      ]
     },
     "execution_count": 250,
     "metadata": {},
     "output_type": "execute_result"
    }
   ],
   "source": [
    "ytest_lbl"
   ]
  },
  {
   "cell_type": "code",
   "execution_count": null,
   "id": "d61199d7",
   "metadata": {},
   "outputs": [],
   "source": []
  },
  {
   "cell_type": "code",
   "execution_count": null,
   "id": "4b59fabc",
   "metadata": {},
   "outputs": [],
   "source": []
  }
 ],
 "metadata": {
  "kernelspec": {
   "display_name": "Python 3 (ipykernel)",
   "language": "python",
   "name": "python3"
  },
  "language_info": {
   "codemirror_mode": {
    "name": "ipython",
    "version": 3
   },
   "file_extension": ".py",
   "mimetype": "text/x-python",
   "name": "python",
   "nbconvert_exporter": "python",
   "pygments_lexer": "ipython3",
   "version": "3.9.13"
  }
 },
 "nbformat": 4,
 "nbformat_minor": 5
}
