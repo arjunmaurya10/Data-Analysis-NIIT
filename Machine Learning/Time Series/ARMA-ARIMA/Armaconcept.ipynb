{
 "cells": [
  {
   "cell_type": "markdown",
   "id": "974afb20",
   "metadata": {},
   "source": [
    "# ARIMA model"
   ]
  },
  {
   "cell_type": "code",
   "execution_count": 38,
   "id": "98700efd",
   "metadata": {},
   "outputs": [],
   "source": [
    "import pandas as pd\n",
    "import matplotlib.pyplot as plt\n",
    "import numpy as np\n",
    "import statsmodels.api as sm"
   ]
  },
  {
   "cell_type": "code",
   "execution_count": 26,
   "id": "7714656e",
   "metadata": {},
   "outputs": [],
   "source": [
    "from statsmodels.tsa.stattools import adfuller,acf,pacf\n",
    "from statsmodels.graphics.tsaplots import plot_acf,plot_pacf"
   ]
  },
  {
   "cell_type": "code",
   "execution_count": 14,
   "id": "1d3eedec",
   "metadata": {},
   "outputs": [],
   "source": [
    "df = pd.read_csv('DS3_C1_S3_FemaleBirth_Data_Concept.csv')"
   ]
  },
  {
   "cell_type": "code",
   "execution_count": 15,
   "id": "bd5ba760",
   "metadata": {},
   "outputs": [
    {
     "data": {
      "text/html": [
       "<div>\n",
       "<style scoped>\n",
       "    .dataframe tbody tr th:only-of-type {\n",
       "        vertical-align: middle;\n",
       "    }\n",
       "\n",
       "    .dataframe tbody tr th {\n",
       "        vertical-align: top;\n",
       "    }\n",
       "\n",
       "    .dataframe thead th {\n",
       "        text-align: right;\n",
       "    }\n",
       "</style>\n",
       "<table border=\"1\" class=\"dataframe\">\n",
       "  <thead>\n",
       "    <tr style=\"text-align: right;\">\n",
       "      <th></th>\n",
       "      <th>Date</th>\n",
       "      <th>Births</th>\n",
       "    </tr>\n",
       "  </thead>\n",
       "  <tbody>\n",
       "    <tr>\n",
       "      <th>0</th>\n",
       "      <td>01-01-1959</td>\n",
       "      <td>35</td>\n",
       "    </tr>\n",
       "    <tr>\n",
       "      <th>1</th>\n",
       "      <td>02-01-1959</td>\n",
       "      <td>32</td>\n",
       "    </tr>\n",
       "    <tr>\n",
       "      <th>2</th>\n",
       "      <td>03-01-1959</td>\n",
       "      <td>30</td>\n",
       "    </tr>\n",
       "    <tr>\n",
       "      <th>3</th>\n",
       "      <td>04-01-1959</td>\n",
       "      <td>31</td>\n",
       "    </tr>\n",
       "    <tr>\n",
       "      <th>4</th>\n",
       "      <td>05-01-1959</td>\n",
       "      <td>44</td>\n",
       "    </tr>\n",
       "    <tr>\n",
       "      <th>...</th>\n",
       "      <td>...</td>\n",
       "      <td>...</td>\n",
       "    </tr>\n",
       "    <tr>\n",
       "      <th>360</th>\n",
       "      <td>27-12-1959</td>\n",
       "      <td>37</td>\n",
       "    </tr>\n",
       "    <tr>\n",
       "      <th>361</th>\n",
       "      <td>28-12-1959</td>\n",
       "      <td>52</td>\n",
       "    </tr>\n",
       "    <tr>\n",
       "      <th>362</th>\n",
       "      <td>29-12-1959</td>\n",
       "      <td>48</td>\n",
       "    </tr>\n",
       "    <tr>\n",
       "      <th>363</th>\n",
       "      <td>30-12-1959</td>\n",
       "      <td>55</td>\n",
       "    </tr>\n",
       "    <tr>\n",
       "      <th>364</th>\n",
       "      <td>31-12-1959</td>\n",
       "      <td>50</td>\n",
       "    </tr>\n",
       "  </tbody>\n",
       "</table>\n",
       "<p>365 rows × 2 columns</p>\n",
       "</div>"
      ],
      "text/plain": [
       "           Date  Births\n",
       "0    01-01-1959      35\n",
       "1    02-01-1959      32\n",
       "2    03-01-1959      30\n",
       "3    04-01-1959      31\n",
       "4    05-01-1959      44\n",
       "..          ...     ...\n",
       "360  27-12-1959      37\n",
       "361  28-12-1959      52\n",
       "362  29-12-1959      48\n",
       "363  30-12-1959      55\n",
       "364  31-12-1959      50\n",
       "\n",
       "[365 rows x 2 columns]"
      ]
     },
     "execution_count": 15,
     "metadata": {},
     "output_type": "execute_result"
    }
   ],
   "source": [
    "import numpy as np\n",
    "import statsmodels.api as smdf"
   ]
  },
  {
   "cell_type": "code",
   "execution_count": 16,
   "id": "c7351f60",
   "metadata": {},
   "outputs": [
    {
     "name": "stdout",
     "output_type": "stream",
     "text": [
      "<class 'pandas.core.frame.DataFrame'>\n",
      "RangeIndex: 365 entries, 0 to 364\n",
      "Data columns (total 2 columns):\n",
      " #   Column  Non-Null Count  Dtype \n",
      "---  ------  --------------  ----- \n",
      " 0   Date    365 non-null    object\n",
      " 1   Births  365 non-null    int64 \n",
      "dtypes: int64(1), object(1)\n",
      "memory usage: 5.8+ KB\n"
     ]
    }
   ],
   "source": [
    "df.info()"
   ]
  },
  {
   "cell_type": "code",
   "execution_count": 17,
   "id": "f6737bfc",
   "metadata": {},
   "outputs": [],
   "source": [
    "df=df.set_index('Date')"
   ]
  },
  {
   "cell_type": "code",
   "execution_count": 18,
   "id": "6967b98b",
   "metadata": {},
   "outputs": [
    {
     "data": {
      "text/html": [
       "<div>\n",
       "<style scoped>\n",
       "    .dataframe tbody tr th:only-of-type {\n",
       "        vertical-align: middle;\n",
       "    }\n",
       "\n",
       "    .dataframe tbody tr th {\n",
       "        vertical-align: top;\n",
       "    }\n",
       "\n",
       "    .dataframe thead th {\n",
       "        text-align: right;\n",
       "    }\n",
       "</style>\n",
       "<table border=\"1\" class=\"dataframe\">\n",
       "  <thead>\n",
       "    <tr style=\"text-align: right;\">\n",
       "      <th></th>\n",
       "      <th>Births</th>\n",
       "    </tr>\n",
       "    <tr>\n",
       "      <th>Date</th>\n",
       "      <th></th>\n",
       "    </tr>\n",
       "  </thead>\n",
       "  <tbody>\n",
       "    <tr>\n",
       "      <th>01-01-1959</th>\n",
       "      <td>35</td>\n",
       "    </tr>\n",
       "    <tr>\n",
       "      <th>02-01-1959</th>\n",
       "      <td>32</td>\n",
       "    </tr>\n",
       "    <tr>\n",
       "      <th>03-01-1959</th>\n",
       "      <td>30</td>\n",
       "    </tr>\n",
       "    <tr>\n",
       "      <th>04-01-1959</th>\n",
       "      <td>31</td>\n",
       "    </tr>\n",
       "    <tr>\n",
       "      <th>05-01-1959</th>\n",
       "      <td>44</td>\n",
       "    </tr>\n",
       "    <tr>\n",
       "      <th>...</th>\n",
       "      <td>...</td>\n",
       "    </tr>\n",
       "    <tr>\n",
       "      <th>27-12-1959</th>\n",
       "      <td>37</td>\n",
       "    </tr>\n",
       "    <tr>\n",
       "      <th>28-12-1959</th>\n",
       "      <td>52</td>\n",
       "    </tr>\n",
       "    <tr>\n",
       "      <th>29-12-1959</th>\n",
       "      <td>48</td>\n",
       "    </tr>\n",
       "    <tr>\n",
       "      <th>30-12-1959</th>\n",
       "      <td>55</td>\n",
       "    </tr>\n",
       "    <tr>\n",
       "      <th>31-12-1959</th>\n",
       "      <td>50</td>\n",
       "    </tr>\n",
       "  </tbody>\n",
       "</table>\n",
       "<p>365 rows × 1 columns</p>\n",
       "</div>"
      ],
      "text/plain": [
       "            Births\n",
       "Date              \n",
       "01-01-1959      35\n",
       "02-01-1959      32\n",
       "03-01-1959      30\n",
       "04-01-1959      31\n",
       "05-01-1959      44\n",
       "...            ...\n",
       "27-12-1959      37\n",
       "28-12-1959      52\n",
       "29-12-1959      48\n",
       "30-12-1959      55\n",
       "31-12-1959      50\n",
       "\n",
       "[365 rows x 1 columns]"
      ]
     },
     "execution_count": 18,
     "metadata": {},
     "output_type": "execute_result"
    }
   ],
   "source": [
    "df"
   ]
  },
  {
   "cell_type": "code",
   "execution_count": 23,
   "id": "78070919",
   "metadata": {},
   "outputs": [],
   "source": [
    "# chkng for stationary"
   ]
  },
  {
   "cell_type": "code",
   "execution_count": 19,
   "id": "66ba9ab7",
   "metadata": {},
   "outputs": [],
   "source": [
    "result = adfuller(df)\n",
    "p_value=result[1]"
   ]
  },
  {
   "cell_type": "code",
   "execution_count": 20,
   "id": "0fdcbe8e",
   "metadata": {},
   "outputs": [
    {
     "data": {
      "text/plain": [
       "5.243412990149865e-05"
      ]
     },
     "execution_count": 20,
     "metadata": {},
     "output_type": "execute_result"
    }
   ],
   "source": [
    "p_value"
   ]
  },
  {
   "cell_type": "code",
   "execution_count": 21,
   "id": "5dd5dce5",
   "metadata": {},
   "outputs": [],
   "source": [
    "# Stationary"
   ]
  },
  {
   "cell_type": "code",
   "execution_count": null,
   "id": "ba1479f0",
   "metadata": {},
   "outputs": [],
   "source": [
    "# to make stationary have to take diff."
   ]
  },
  {
   "cell_type": "code",
   "execution_count": 22,
   "id": "e9383b50",
   "metadata": {},
   "outputs": [
    {
     "data": {
      "text/plain": [
       "<Axes: xlabel='Date'>"
      ]
     },
     "execution_count": 22,
     "metadata": {},
     "output_type": "execute_result"
    },
    {
     "data": {
      "image/png": "[encoded data removed]",
      "text/plain": [
       "<Figure size 1400x800 with 1 Axes>"
      ]
     },
     "metadata": {},
     "output_type": "display_data"
    }
   ],
   "source": [
    "df.plot(figsize=(14,8))"
   ]
  },
  {
   "cell_type": "code",
   "execution_count": 24,
   "id": "6c6491cf",
   "metadata": {},
   "outputs": [],
   "source": [
    "# plot the acf and pacf"
   ]
  },
  {
   "cell_type": "code",
   "execution_count": 36,
   "id": "de5bc0f3",
   "metadata": {},
   "outputs": [
    {
     "data": {
      "text/plain": [
       "<matplotlib.lines.Line2D at 0x1893fd4ef20>"
      ]
     },
     "execution_count": 36,
     "metadata": {},
     "output_type": "execute_result"
    },
    {
     "data": {
      "image/png": "[encoded data removed]",
      "text/plain": [
       "<Figure size 640x480 with 2 Axes>"
      ]
     },
     "metadata": {},
     "output_type": "display_data"
    }
   ],
   "source": [
    "lag_acf=acf(df,nlags=50)\n",
    "lag_pacf=pacf(df,nlags=50,method='ols')\n",
    "\n",
    "plt.subplot(121)\n",
    "plt.plot(lag_acf)\n",
    "plt.axhline(y=0,linestyle='--')\n",
    "plt.axhline(y=1.96/np.sqrt(len(df)),linestyle='--')\n",
    "plt.axhline(y=-1.96/np.sqrt(len(df)),linestyle='--')\n",
    "\n",
    "plt.subplot(122)\n",
    "plt.plot(lag_pacf)\n",
    "plt.axhline(y=0,linestyle='--')\n",
    "plt.axhline(y=1.96/np.sqrt(len(df)),linestyle='--')\n",
    "plt.axhline(y=-1.96/np.sqrt(len(df)),linestyle='--')"
   ]
  },
  {
   "cell_type": "code",
   "execution_count": null,
   "id": "a30dd3c0",
   "metadata": {},
   "outputs": [],
   "source": [
    "# correlogram"
   ]
  },
  {
   "cell_type": "code",
   "execution_count": 37,
   "id": "a3836800",
   "metadata": {},
   "outputs": [
    {
     "data": {
      "image/png": "[encoded data removed]",
      "text/plain": [
       "<Figure size 700x600 with 2 Axes>"
      ]
     },
     "metadata": {},
     "output_type": "display_data"
    }
   ],
   "source": [
    "fig,ax=plt.subplots(nrows=2,ncols=1,figsize=(7,6))\n",
    "\n",
    "#acf plot\n",
    "plot_acf(df,lags=30,ax=ax[0])\n",
    "ax[0].set_title(\"ACF\")\n",
    "\n",
    "\n",
    "#pacf plot\n",
    "plot_pacf(df,lags=30,ax=ax[1])\n",
    "ax[1].set_title(\"PACF\")\n",
    "\n",
    "plt.tight_layout()"
   ]
  },
  {
   "cell_type": "code",
   "execution_count": null,
   "id": "9f501b03",
   "metadata": {},
   "outputs": [],
   "source": [
    "# corr. between current and past\n",
    "# at lag 0 constant \n",
    "# in pacf , at 21 , 7 and 1 high correleation "
   ]
  },
  {
   "cell_type": "code",
   "execution_count": null,
   "id": "1308b617",
   "metadata": {},
   "outputs": [],
   "source": []
  },
  {
   "cell_type": "markdown",
   "id": "2c837d88",
   "metadata": {},
   "source": [
    "**PCAF(Auto Rgression)**"
   ]
  },
  {
   "cell_type": "code",
   "execution_count": 43,
   "id": "64f0f43b",
   "metadata": {},
   "outputs": [
    {
     "name": "stderr",
     "output_type": "stream",
     "text": [
      "C:\\Users\\AARATI MAURYA\\anaconda3\\lib\\site-packages\\statsmodels\\tsa\\base\\tsa_model.py:473: ValueWarning: An unsupported index was provided and will be ignored when e.g. forecasting.\n",
      "  self._init_dates(dates, freq)\n",
      "C:\\Users\\AARATI MAURYA\\anaconda3\\lib\\site-packages\\statsmodels\\tsa\\base\\tsa_model.py:473: ValueWarning: An unsupported index was provided and will be ignored when e.g. forecasting.\n",
      "  self._init_dates(dates, freq)\n",
      "C:\\Users\\AARATI MAURYA\\anaconda3\\lib\\site-packages\\statsmodels\\tsa\\base\\tsa_model.py:473: ValueWarning: An unsupported index was provided and will be ignored when e.g. forecasting.\n",
      "  self._init_dates(dates, freq)\n"
     ]
    },
    {
     "data": {
      "text/html": [
       "<table class=\"simpletable\">\n",
       "<caption>SARIMAX Results</caption>\n",
       "<tr>\n",
       "  <th>Dep. Variable:</th>        <td>Births</td>      <th>  No. Observations:  </th>    <td>365</td>   \n",
       "</tr>\n",
       "<tr>\n",
       "  <th>Model:</th>            <td>ARIMA(1, 0, 0)</td>  <th>  Log Likelihood     </th> <td>-1236.540</td>\n",
       "</tr>\n",
       "<tr>\n",
       "  <th>Date:</th>            <td>Mon, 26 Jun 2023</td> <th>  AIC                </th> <td>2479.081</td> \n",
       "</tr>\n",
       "<tr>\n",
       "  <th>Time:</th>                <td>13:44:33</td>     <th>  BIC                </th> <td>2490.780</td> \n",
       "</tr>\n",
       "<tr>\n",
       "  <th>Sample:</th>                  <td>0</td>        <th>  HQIC               </th> <td>2483.730</td> \n",
       "</tr>\n",
       "<tr>\n",
       "  <th></th>                      <td> - 365</td>      <th>                     </th>     <td> </td>    \n",
       "</tr>\n",
       "<tr>\n",
       "  <th>Covariance Type:</th>        <td>opg</td>       <th>                     </th>     <td> </td>    \n",
       "</tr>\n",
       "</table>\n",
       "<table class=\"simpletable\">\n",
       "<tr>\n",
       "     <td></td>       <th>coef</th>     <th>std err</th>      <th>z</th>      <th>P>|z|</th>  <th>[0.025</th>    <th>0.975]</th>  \n",
       "</tr>\n",
       "<tr>\n",
       "  <th>const</th>  <td>   41.9808</td> <td>    0.506</td> <td>   82.978</td> <td> 0.000</td> <td>   40.989</td> <td>   42.972</td>\n",
       "</tr>\n",
       "<tr>\n",
       "  <th>ar.L1</th>  <td>    0.2179</td> <td>    0.052</td> <td>    4.225</td> <td> 0.000</td> <td>    0.117</td> <td>    0.319</td>\n",
       "</tr>\n",
       "<tr>\n",
       "  <th>sigma2</th> <td>   51.3057</td> <td>    3.467</td> <td>   14.799</td> <td> 0.000</td> <td>   44.511</td> <td>   58.101</td>\n",
       "</tr>\n",
       "</table>\n",
       "<table class=\"simpletable\">\n",
       "<tr>\n",
       "  <th>Ljung-Box (L1) (Q):</th>     <td>0.22</td> <th>  Jarque-Bera (JB):  </th> <td>23.22</td>\n",
       "</tr>\n",
       "<tr>\n",
       "  <th>Prob(Q):</th>                <td>0.64</td> <th>  Prob(JB):          </th> <td>0.00</td> \n",
       "</tr>\n",
       "<tr>\n",
       "  <th>Heteroskedasticity (H):</th> <td>0.98</td> <th>  Skew:              </th> <td>0.51</td> \n",
       "</tr>\n",
       "<tr>\n",
       "  <th>Prob(H) (two-sided):</th>    <td>0.93</td> <th>  Kurtosis:          </th> <td>3.69</td> \n",
       "</tr>\n",
       "</table><br/><br/>Warnings:<br/>[1] Covariance matrix calculated using the outer product of gradients (complex-step)."
      ],
      "text/latex": [
       "\\begin{center}\n",
       "\\begin{tabular}{lclc}\n",
       "\\toprule\n",
       "\\textbf{Dep. Variable:}          &      Births      & \\textbf{  No. Observations:  } &    365      \\\\\n",
       "\\textbf{Model:}                  &  ARIMA(1, 0, 0)  & \\textbf{  Log Likelihood     } & -1236.540   \\\\\n",
       "\\textbf{Date:}                   & Mon, 26 Jun 2023 & \\textbf{  AIC                } &  2479.081   \\\\\n",
       "\\textbf{Time:}                   &     13:44:33     & \\textbf{  BIC                } &  2490.780   \\\\\n",
       "\\textbf{Sample:}                 &        0         & \\textbf{  HQIC               } &  2483.730   \\\\\n",
       "\\textbf{}                        &       - 365      & \\textbf{                     } &             \\\\\n",
       "\\textbf{Covariance Type:}        &       opg        & \\textbf{                     } &             \\\\\n",
       "\\bottomrule\n",
       "\\end{tabular}\n",
       "\\begin{tabular}{lcccccc}\n",
       "                & \\textbf{coef} & \\textbf{std err} & \\textbf{z} & \\textbf{P$> |$z$|$} & \\textbf{[0.025} & \\textbf{0.975]}  \\\\\n",
       "\\midrule\n",
       "\\textbf{const}  &      41.9808  &        0.506     &    82.978  &         0.000        &       40.989    &       42.972     \\\\\n",
       "\\textbf{ar.L1}  &       0.2179  &        0.052     &     4.225  &         0.000        &        0.117    &        0.319     \\\\\n",
       "\\textbf{sigma2} &      51.3057  &        3.467     &    14.799  &         0.000        &       44.511    &       58.101     \\\\\n",
       "\\bottomrule\n",
       "\\end{tabular}\n",
       "\\begin{tabular}{lclc}\n",
       "\\textbf{Ljung-Box (L1) (Q):}     & 0.22 & \\textbf{  Jarque-Bera (JB):  } & 23.22  \\\\\n",
       "\\textbf{Prob(Q):}                & 0.64 & \\textbf{  Prob(JB):          } &  0.00  \\\\\n",
       "\\textbf{Heteroskedasticity (H):} & 0.98 & \\textbf{  Skew:              } &  0.51  \\\\\n",
       "\\textbf{Prob(H) (two-sided):}    & 0.93 & \\textbf{  Kurtosis:          } &  3.69  \\\\\n",
       "\\bottomrule\n",
       "\\end{tabular}\n",
       "%\\caption{SARIMAX Results}\n",
       "\\end{center}\n",
       "\n",
       "Warnings: \\newline\n",
       " [1] Covariance matrix calculated using the outer product of gradients (complex-step)."
      ],
      "text/plain": [
       "<class 'statsmodels.iolib.summary.Summary'>\n",
       "\"\"\"\n",
       "                               SARIMAX Results                                \n",
       "==============================================================================\n",
       "Dep. Variable:                 Births   No. Observations:                  365\n",
       "Model:                 ARIMA(1, 0, 0)   Log Likelihood               -1236.540\n",
       "Date:                Mon, 26 Jun 2023   AIC                           2479.081\n",
       "Time:                        13:44:33   BIC                           2490.780\n",
       "Sample:                             0   HQIC                          2483.730\n",
       "                                - 365                                         \n",
       "Covariance Type:                  opg                                         \n",
       "==============================================================================\n",
       "                 coef    std err          z      P>|z|      [0.025      0.975]\n",
       "------------------------------------------------------------------------------\n",
       "const         41.9808      0.506     82.978      0.000      40.989      42.972\n",
       "ar.L1          0.2179      0.052      4.225      0.000       0.117       0.319\n",
       "sigma2        51.3057      3.467     14.799      0.000      44.511      58.101\n",
       "===================================================================================\n",
       "Ljung-Box (L1) (Q):                   0.22   Jarque-Bera (JB):                23.22\n",
       "Prob(Q):                              0.64   Prob(JB):                         0.00\n",
       "Heteroskedasticity (H):               0.98   Skew:                             0.51\n",
       "Prob(H) (two-sided):                  0.93   Kurtosis:                         3.69\n",
       "===================================================================================\n",
       "\n",
       "Warnings:\n",
       "[1] Covariance matrix calculated using the outer product of gradients (complex-step).\n",
       "\"\"\""
      ]
     },
     "execution_count": 43,
     "metadata": {},
     "output_type": "execute_result"
    }
   ],
   "source": [
    "p=1\n",
    "q=0\n",
    "d=0\n",
    "ar_m1=sm.tsa.ARIMA(df,order=(p,d,q)).fit()\n",
    "ar_m1.summary()"
   ]
  },
  {
   "cell_type": "code",
   "execution_count": 44,
   "id": "f7a52ba7",
   "metadata": {},
   "outputs": [
    {
     "name": "stderr",
     "output_type": "stream",
     "text": [
      "C:\\Users\\AARATI MAURYA\\anaconda3\\lib\\site-packages\\statsmodels\\tsa\\base\\tsa_model.py:473: ValueWarning: An unsupported index was provided and will be ignored when e.g. forecasting.\n",
      "  self._init_dates(dates, freq)\n",
      "C:\\Users\\AARATI MAURYA\\anaconda3\\lib\\site-packages\\statsmodels\\tsa\\base\\tsa_model.py:473: ValueWarning: An unsupported index was provided and will be ignored when e.g. forecasting.\n",
      "  self._init_dates(dates, freq)\n",
      "C:\\Users\\AARATI MAURYA\\anaconda3\\lib\\site-packages\\statsmodels\\tsa\\base\\tsa_model.py:473: ValueWarning: An unsupported index was provided and will be ignored when e.g. forecasting.\n",
      "  self._init_dates(dates, freq)\n"
     ]
    },
    {
     "data": {
      "text/html": [
       "<table class=\"simpletable\">\n",
       "<caption>SARIMAX Results</caption>\n",
       "<tr>\n",
       "  <th>Dep. Variable:</th>        <td>Births</td>      <th>  No. Observations:  </th>    <td>365</td>   \n",
       "</tr>\n",
       "<tr>\n",
       "  <th>Model:</th>            <td>ARIMA(2, 0, 0)</td>  <th>  Log Likelihood     </th> <td>-1234.182</td>\n",
       "</tr>\n",
       "<tr>\n",
       "  <th>Date:</th>            <td>Mon, 26 Jun 2023</td> <th>  AIC                </th> <td>2476.364</td> \n",
       "</tr>\n",
       "<tr>\n",
       "  <th>Time:</th>                <td>13:45:30</td>     <th>  BIC                </th> <td>2491.963</td> \n",
       "</tr>\n",
       "<tr>\n",
       "  <th>Sample:</th>                  <td>0</td>        <th>  HQIC               </th> <td>2482.563</td> \n",
       "</tr>\n",
       "<tr>\n",
       "  <th></th>                      <td> - 365</td>      <th>                     </th>     <td> </td>    \n",
       "</tr>\n",
       "<tr>\n",
       "  <th>Covariance Type:</th>        <td>opg</td>       <th>                     </th>     <td> </td>    \n",
       "</tr>\n",
       "</table>\n",
       "<table class=\"simpletable\">\n",
       "<tr>\n",
       "     <td></td>       <th>coef</th>     <th>std err</th>      <th>z</th>      <th>P>|z|</th>  <th>[0.025</th>    <th>0.975]</th>  \n",
       "</tr>\n",
       "<tr>\n",
       "  <th>const</th>  <td>   41.9816</td> <td>    0.568</td> <td>   73.885</td> <td> 0.000</td> <td>   40.868</td> <td>   43.095</td>\n",
       "</tr>\n",
       "<tr>\n",
       "  <th>ar.L1</th>  <td>    0.1939</td> <td>    0.055</td> <td>    3.544</td> <td> 0.000</td> <td>    0.087</td> <td>    0.301</td>\n",
       "</tr>\n",
       "<tr>\n",
       "  <th>ar.L2</th>  <td>    0.1139</td> <td>    0.055</td> <td>    2.070</td> <td> 0.038</td> <td>    0.006</td> <td>    0.222</td>\n",
       "</tr>\n",
       "<tr>\n",
       "  <th>sigma2</th> <td>   50.6301</td> <td>    3.527</td> <td>   14.354</td> <td> 0.000</td> <td>   43.717</td> <td>   57.544</td>\n",
       "</tr>\n",
       "</table>\n",
       "<table class=\"simpletable\">\n",
       "<tr>\n",
       "  <th>Ljung-Box (L1) (Q):</th>     <td>0.02</td> <th>  Jarque-Bera (JB):  </th> <td>18.89</td>\n",
       "</tr>\n",
       "<tr>\n",
       "  <th>Prob(Q):</th>                <td>0.89</td> <th>  Prob(JB):          </th> <td>0.00</td> \n",
       "</tr>\n",
       "<tr>\n",
       "  <th>Heteroskedasticity (H):</th> <td>0.96</td> <th>  Skew:              </th> <td>0.48</td> \n",
       "</tr>\n",
       "<tr>\n",
       "  <th>Prob(H) (two-sided):</th>    <td>0.83</td> <th>  Kurtosis:          </th> <td>3.57</td> \n",
       "</tr>\n",
       "</table><br/><br/>Warnings:<br/>[1] Covariance matrix calculated using the outer product of gradients (complex-step)."
      ],
      "text/latex": [
       "\\begin{center}\n",
       "\\begin{tabular}{lclc}\n",
       "\\toprule\n",
       "\\textbf{Dep. Variable:}          &      Births      & \\textbf{  No. Observations:  } &    365      \\\\\n",
       "\\textbf{Model:}                  &  ARIMA(2, 0, 0)  & \\textbf{  Log Likelihood     } & -1234.182   \\\\\n",
       "\\textbf{Date:}                   & Mon, 26 Jun 2023 & \\textbf{  AIC                } &  2476.364   \\\\\n",
       "\\textbf{Time:}                   &     13:45:30     & \\textbf{  BIC                } &  2491.963   \\\\\n",
       "\\textbf{Sample:}                 &        0         & \\textbf{  HQIC               } &  2482.563   \\\\\n",
       "\\textbf{}                        &       - 365      & \\textbf{                     } &             \\\\\n",
       "\\textbf{Covariance Type:}        &       opg        & \\textbf{                     } &             \\\\\n",
       "\\bottomrule\n",
       "\\end{tabular}\n",
       "\\begin{tabular}{lcccccc}\n",
       "                & \\textbf{coef} & \\textbf{std err} & \\textbf{z} & \\textbf{P$> |$z$|$} & \\textbf{[0.025} & \\textbf{0.975]}  \\\\\n",
       "\\midrule\n",
       "\\textbf{const}  &      41.9816  &        0.568     &    73.885  &         0.000        &       40.868    &       43.095     \\\\\n",
       "\\textbf{ar.L1}  &       0.1939  &        0.055     &     3.544  &         0.000        &        0.087    &        0.301     \\\\\n",
       "\\textbf{ar.L2}  &       0.1139  &        0.055     &     2.070  &         0.038        &        0.006    &        0.222     \\\\\n",
       "\\textbf{sigma2} &      50.6301  &        3.527     &    14.354  &         0.000        &       43.717    &       57.544     \\\\\n",
       "\\bottomrule\n",
       "\\end{tabular}\n",
       "\\begin{tabular}{lclc}\n",
       "\\textbf{Ljung-Box (L1) (Q):}     & 0.02 & \\textbf{  Jarque-Bera (JB):  } & 18.89  \\\\\n",
       "\\textbf{Prob(Q):}                & 0.89 & \\textbf{  Prob(JB):          } &  0.00  \\\\\n",
       "\\textbf{Heteroskedasticity (H):} & 0.96 & \\textbf{  Skew:              } &  0.48  \\\\\n",
       "\\textbf{Prob(H) (two-sided):}    & 0.83 & \\textbf{  Kurtosis:          } &  3.57  \\\\\n",
       "\\bottomrule\n",
       "\\end{tabular}\n",
       "%\\caption{SARIMAX Results}\n",
       "\\end{center}\n",
       "\n",
       "Warnings: \\newline\n",
       " [1] Covariance matrix calculated using the outer product of gradients (complex-step)."
      ],
      "text/plain": [
       "<class 'statsmodels.iolib.summary.Summary'>\n",
       "\"\"\"\n",
       "                               SARIMAX Results                                \n",
       "==============================================================================\n",
       "Dep. Variable:                 Births   No. Observations:                  365\n",
       "Model:                 ARIMA(2, 0, 0)   Log Likelihood               -1234.182\n",
       "Date:                Mon, 26 Jun 2023   AIC                           2476.364\n",
       "Time:                        13:45:30   BIC                           2491.963\n",
       "Sample:                             0   HQIC                          2482.563\n",
       "                                - 365                                         \n",
       "Covariance Type:                  opg                                         \n",
       "==============================================================================\n",
       "                 coef    std err          z      P>|z|      [0.025      0.975]\n",
       "------------------------------------------------------------------------------\n",
       "const         41.9816      0.568     73.885      0.000      40.868      43.095\n",
       "ar.L1          0.1939      0.055      3.544      0.000       0.087       0.301\n",
       "ar.L2          0.1139      0.055      2.070      0.038       0.006       0.222\n",
       "sigma2        50.6301      3.527     14.354      0.000      43.717      57.544\n",
       "===================================================================================\n",
       "Ljung-Box (L1) (Q):                   0.02   Jarque-Bera (JB):                18.89\n",
       "Prob(Q):                              0.89   Prob(JB):                         0.00\n",
       "Heteroskedasticity (H):               0.96   Skew:                             0.48\n",
       "Prob(H) (two-sided):                  0.83   Kurtosis:                         3.57\n",
       "===================================================================================\n",
       "\n",
       "Warnings:\n",
       "[1] Covariance matrix calculated using the outer product of gradients (complex-step).\n",
       "\"\"\""
      ]
     },
     "execution_count": 44,
     "metadata": {},
     "output_type": "execute_result"
    }
   ],
   "source": [
    "p=2\n",
    "q=0\n",
    "d=0\n",
    "ar_m1=sm.tsa.ARIMA(df,order=(p,d,q)).fit()\n",
    "ar_m1.summary()"
   ]
  },
  {
   "cell_type": "code",
   "execution_count": 45,
   "id": "32659941",
   "metadata": {},
   "outputs": [
    {
     "name": "stderr",
     "output_type": "stream",
     "text": [
      "C:\\Users\\AARATI MAURYA\\anaconda3\\lib\\site-packages\\statsmodels\\tsa\\base\\tsa_model.py:473: ValueWarning: An unsupported index was provided and will be ignored when e.g. forecasting.\n",
      "  self._init_dates(dates, freq)\n",
      "C:\\Users\\AARATI MAURYA\\anaconda3\\lib\\site-packages\\statsmodels\\tsa\\base\\tsa_model.py:473: ValueWarning: An unsupported index was provided and will be ignored when e.g. forecasting.\n",
      "  self._init_dates(dates, freq)\n",
      "C:\\Users\\AARATI MAURYA\\anaconda3\\lib\\site-packages\\statsmodels\\tsa\\base\\tsa_model.py:473: ValueWarning: An unsupported index was provided and will be ignored when e.g. forecasting.\n",
      "  self._init_dates(dates, freq)\n"
     ]
    },
    {
     "data": {
      "text/html": [
       "<table class=\"simpletable\">\n",
       "<caption>SARIMAX Results</caption>\n",
       "<tr>\n",
       "  <th>Dep. Variable:</th>        <td>Births</td>      <th>  No. Observations:  </th>    <td>365</td>   \n",
       "</tr>\n",
       "<tr>\n",
       "  <th>Model:</th>            <td>ARIMA(3, 0, 0)</td>  <th>  Log Likelihood     </th> <td>-1233.500</td>\n",
       "</tr>\n",
       "<tr>\n",
       "  <th>Date:</th>            <td>Mon, 26 Jun 2023</td> <th>  AIC                </th> <td>2476.999</td> \n",
       "</tr>\n",
       "<tr>\n",
       "  <th>Time:</th>                <td>13:45:48</td>     <th>  BIC                </th> <td>2496.499</td> \n",
       "</tr>\n",
       "<tr>\n",
       "  <th>Sample:</th>                  <td>0</td>        <th>  HQIC               </th> <td>2484.748</td> \n",
       "</tr>\n",
       "<tr>\n",
       "  <th></th>                      <td> - 365</td>      <th>                     </th>     <td> </td>    \n",
       "</tr>\n",
       "<tr>\n",
       "  <th>Covariance Type:</th>        <td>opg</td>       <th>                     </th>     <td> </td>    \n",
       "</tr>\n",
       "</table>\n",
       "<table class=\"simpletable\">\n",
       "<tr>\n",
       "     <td></td>       <th>coef</th>     <th>std err</th>      <th>z</th>      <th>P>|z|</th>  <th>[0.025</th>    <th>0.975]</th>  \n",
       "</tr>\n",
       "<tr>\n",
       "  <th>const</th>  <td>   41.9814</td> <td>    0.605</td> <td>   69.360</td> <td> 0.000</td> <td>   40.795</td> <td>   43.168</td>\n",
       "</tr>\n",
       "<tr>\n",
       "  <th>ar.L1</th>  <td>    0.1872</td> <td>    0.055</td> <td>    3.382</td> <td> 0.001</td> <td>    0.079</td> <td>    0.296</td>\n",
       "</tr>\n",
       "<tr>\n",
       "  <th>ar.L2</th>  <td>    0.1029</td> <td>    0.055</td> <td>    1.860</td> <td> 0.063</td> <td>   -0.006</td> <td>    0.211</td>\n",
       "</tr>\n",
       "<tr>\n",
       "  <th>ar.L3</th>  <td>    0.0615</td> <td>    0.056</td> <td>    1.104</td> <td> 0.269</td> <td>   -0.048</td> <td>    0.171</td>\n",
       "</tr>\n",
       "<tr>\n",
       "  <th>sigma2</th> <td>   50.4405</td> <td>    3.504</td> <td>   14.396</td> <td> 0.000</td> <td>   43.573</td> <td>   57.308</td>\n",
       "</tr>\n",
       "</table>\n",
       "<table class=\"simpletable\">\n",
       "<tr>\n",
       "  <th>Ljung-Box (L1) (Q):</th>     <td>0.00</td> <th>  Jarque-Bera (JB):  </th> <td>20.01</td>\n",
       "</tr>\n",
       "<tr>\n",
       "  <th>Prob(Q):</th>                <td>0.95</td> <th>  Prob(JB):          </th> <td>0.00</td> \n",
       "</tr>\n",
       "<tr>\n",
       "  <th>Heteroskedasticity (H):</th> <td>0.95</td> <th>  Skew:              </th> <td>0.48</td> \n",
       "</tr>\n",
       "<tr>\n",
       "  <th>Prob(H) (two-sided):</th>    <td>0.76</td> <th>  Kurtosis:          </th> <td>3.62</td> \n",
       "</tr>\n",
       "</table><br/><br/>Warnings:<br/>[1] Covariance matrix calculated using the outer product of gradients (complex-step)."
      ],
      "text/latex": [
       "\\begin{center}\n",
       "\\begin{tabular}{lclc}\n",
       "\\toprule\n",
       "\\textbf{Dep. Variable:}          &      Births      & \\textbf{  No. Observations:  } &    365      \\\\\n",
       "\\textbf{Model:}                  &  ARIMA(3, 0, 0)  & \\textbf{  Log Likelihood     } & -1233.500   \\\\\n",
       "\\textbf{Date:}                   & Mon, 26 Jun 2023 & \\textbf{  AIC                } &  2476.999   \\\\\n",
       "\\textbf{Time:}                   &     13:45:48     & \\textbf{  BIC                } &  2496.499   \\\\\n",
       "\\textbf{Sample:}                 &        0         & \\textbf{  HQIC               } &  2484.748   \\\\\n",
       "\\textbf{}                        &       - 365      & \\textbf{                     } &             \\\\\n",
       "\\textbf{Covariance Type:}        &       opg        & \\textbf{                     } &             \\\\\n",
       "\\bottomrule\n",
       "\\end{tabular}\n",
       "\\begin{tabular}{lcccccc}\n",
       "                & \\textbf{coef} & \\textbf{std err} & \\textbf{z} & \\textbf{P$> |$z$|$} & \\textbf{[0.025} & \\textbf{0.975]}  \\\\\n",
       "\\midrule\n",
       "\\textbf{const}  &      41.9814  &        0.605     &    69.360  &         0.000        &       40.795    &       43.168     \\\\\n",
       "\\textbf{ar.L1}  &       0.1872  &        0.055     &     3.382  &         0.001        &        0.079    &        0.296     \\\\\n",
       "\\textbf{ar.L2}  &       0.1029  &        0.055     &     1.860  &         0.063        &       -0.006    &        0.211     \\\\\n",
       "\\textbf{ar.L3}  &       0.0615  &        0.056     &     1.104  &         0.269        &       -0.048    &        0.171     \\\\\n",
       "\\textbf{sigma2} &      50.4405  &        3.504     &    14.396  &         0.000        &       43.573    &       57.308     \\\\\n",
       "\\bottomrule\n",
       "\\end{tabular}\n",
       "\\begin{tabular}{lclc}\n",
       "\\textbf{Ljung-Box (L1) (Q):}     & 0.00 & \\textbf{  Jarque-Bera (JB):  } & 20.01  \\\\\n",
       "\\textbf{Prob(Q):}                & 0.95 & \\textbf{  Prob(JB):          } &  0.00  \\\\\n",
       "\\textbf{Heteroskedasticity (H):} & 0.95 & \\textbf{  Skew:              } &  0.48  \\\\\n",
       "\\textbf{Prob(H) (two-sided):}    & 0.76 & \\textbf{  Kurtosis:          } &  3.62  \\\\\n",
       "\\bottomrule\n",
       "\\end{tabular}\n",
       "%\\caption{SARIMAX Results}\n",
       "\\end{center}\n",
       "\n",
       "Warnings: \\newline\n",
       " [1] Covariance matrix calculated using the outer product of gradients (complex-step)."
      ],
      "text/plain": [
       "<class 'statsmodels.iolib.summary.Summary'>\n",
       "\"\"\"\n",
       "                               SARIMAX Results                                \n",
       "==============================================================================\n",
       "Dep. Variable:                 Births   No. Observations:                  365\n",
       "Model:                 ARIMA(3, 0, 0)   Log Likelihood               -1233.500\n",
       "Date:                Mon, 26 Jun 2023   AIC                           2476.999\n",
       "Time:                        13:45:48   BIC                           2496.499\n",
       "Sample:                             0   HQIC                          2484.748\n",
       "                                - 365                                         \n",
       "Covariance Type:                  opg                                         \n",
       "==============================================================================\n",
       "                 coef    std err          z      P>|z|      [0.025      0.975]\n",
       "------------------------------------------------------------------------------\n",
       "const         41.9814      0.605     69.360      0.000      40.795      43.168\n",
       "ar.L1          0.1872      0.055      3.382      0.001       0.079       0.296\n",
       "ar.L2          0.1029      0.055      1.860      0.063      -0.006       0.211\n",
       "ar.L3          0.0615      0.056      1.104      0.269      -0.048       0.171\n",
       "sigma2        50.4405      3.504     14.396      0.000      43.573      57.308\n",
       "===================================================================================\n",
       "Ljung-Box (L1) (Q):                   0.00   Jarque-Bera (JB):                20.01\n",
       "Prob(Q):                              0.95   Prob(JB):                         0.00\n",
       "Heteroskedasticity (H):               0.95   Skew:                             0.48\n",
       "Prob(H) (two-sided):                  0.76   Kurtosis:                         3.62\n",
       "===================================================================================\n",
       "\n",
       "Warnings:\n",
       "[1] Covariance matrix calculated using the outer product of gradients (complex-step).\n",
       "\"\"\""
      ]
     },
     "execution_count": 45,
     "metadata": {},
     "output_type": "execute_result"
    }
   ],
   "source": [
    "p=3\n",
    "q=0\n",
    "d=0\n",
    "ar_m1=sm.tsa.ARIMA(df,order=(p,d,q)).fit()\n",
    "ar_m1.summary()"
   ]
  },
  {
   "cell_type": "code",
   "execution_count": 46,
   "id": "4033b3c2",
   "metadata": {},
   "outputs": [],
   "source": [
    "# AIC should be low \n",
    "# p is no. of correleated"
   ]
  },
  {
   "cell_type": "code",
   "execution_count": 47,
   "id": "8f108bff",
   "metadata": {},
   "outputs": [],
   "source": [
    "# lowest AIC score is for order 2, AR(2) is better model"
   ]
  },
  {
   "cell_type": "code",
   "execution_count": null,
   "id": "8b2538a7",
   "metadata": {},
   "outputs": [],
   "source": []
  },
  {
   "cell_type": "markdown",
   "id": "383a9012",
   "metadata": {},
   "source": [
    "**ACF(moving average)**"
   ]
  },
  {
   "cell_type": "code",
   "execution_count": 49,
   "id": "bc1f49d6",
   "metadata": {},
   "outputs": [
    {
     "name": "stderr",
     "output_type": "stream",
     "text": [
      "C:\\Users\\AARATI MAURYA\\anaconda3\\lib\\site-packages\\statsmodels\\tsa\\base\\tsa_model.py:473: ValueWarning: An unsupported index was provided and will be ignored when e.g. forecasting.\n",
      "  self._init_dates(dates, freq)\n",
      "C:\\Users\\AARATI MAURYA\\anaconda3\\lib\\site-packages\\statsmodels\\tsa\\base\\tsa_model.py:473: ValueWarning: An unsupported index was provided and will be ignored when e.g. forecasting.\n",
      "  self._init_dates(dates, freq)\n",
      "C:\\Users\\AARATI MAURYA\\anaconda3\\lib\\site-packages\\statsmodels\\tsa\\base\\tsa_model.py:473: ValueWarning: An unsupported index was provided and will be ignored when e.g. forecasting.\n",
      "  self._init_dates(dates, freq)\n"
     ]
    },
    {
     "data": {
      "text/html": [
       "<table class=\"simpletable\">\n",
       "<caption>SARIMAX Results</caption>\n",
       "<tr>\n",
       "  <th>Dep. Variable:</th>        <td>Births</td>      <th>  No. Observations:  </th>    <td>365</td>   \n",
       "</tr>\n",
       "<tr>\n",
       "  <th>Model:</th>            <td>ARIMA(0, 0, 1)</td>  <th>  Log Likelihood     </th> <td>-1238.270</td>\n",
       "</tr>\n",
       "<tr>\n",
       "  <th>Date:</th>            <td>Mon, 26 Jun 2023</td> <th>  AIC                </th> <td>2482.539</td> \n",
       "</tr>\n",
       "<tr>\n",
       "  <th>Time:</th>                <td>13:49:16</td>     <th>  BIC                </th> <td>2494.239</td> \n",
       "</tr>\n",
       "<tr>\n",
       "  <th>Sample:</th>                  <td>0</td>        <th>  HQIC               </th> <td>2487.189</td> \n",
       "</tr>\n",
       "<tr>\n",
       "  <th></th>                      <td> - 365</td>      <th>                     </th>     <td> </td>    \n",
       "</tr>\n",
       "<tr>\n",
       "  <th>Covariance Type:</th>        <td>opg</td>       <th>                     </th>     <td> </td>    \n",
       "</tr>\n",
       "</table>\n",
       "<table class=\"simpletable\">\n",
       "<tr>\n",
       "     <td></td>       <th>coef</th>     <th>std err</th>      <th>z</th>      <th>P>|z|</th>  <th>[0.025</th>    <th>0.975]</th>  \n",
       "</tr>\n",
       "<tr>\n",
       "  <th>const</th>  <td>   41.9808</td> <td>    0.468</td> <td>   89.650</td> <td> 0.000</td> <td>   41.063</td> <td>   42.899</td>\n",
       "</tr>\n",
       "<tr>\n",
       "  <th>ma.L1</th>  <td>    0.1782</td> <td>    0.053</td> <td>    3.334</td> <td> 0.001</td> <td>    0.073</td> <td>    0.283</td>\n",
       "</tr>\n",
       "<tr>\n",
       "  <th>sigma2</th> <td>   51.7709</td> <td>    3.439</td> <td>   15.056</td> <td> 0.000</td> <td>   45.031</td> <td>   58.510</td>\n",
       "</tr>\n",
       "</table>\n",
       "<table class=\"simpletable\">\n",
       "<tr>\n",
       "  <th>Ljung-Box (L1) (Q):</th>     <td>0.19</td> <th>  Jarque-Bera (JB):  </th> <td>24.38</td>\n",
       "</tr>\n",
       "<tr>\n",
       "  <th>Prob(Q):</th>                <td>0.66</td> <th>  Prob(JB):          </th> <td>0.00</td> \n",
       "</tr>\n",
       "<tr>\n",
       "  <th>Heteroskedasticity (H):</th> <td>1.01</td> <th>  Skew:              </th> <td>0.51</td> \n",
       "</tr>\n",
       "<tr>\n",
       "  <th>Prob(H) (two-sided):</th>    <td>0.97</td> <th>  Kurtosis:          </th> <td>3.75</td> \n",
       "</tr>\n",
       "</table><br/><br/>Warnings:<br/>[1] Covariance matrix calculated using the outer product of gradients (complex-step)."
      ],
      "text/latex": [
       "\\begin{center}\n",
       "\\begin{tabular}{lclc}\n",
       "\\toprule\n",
       "\\textbf{Dep. Variable:}          &      Births      & \\textbf{  No. Observations:  } &    365      \\\\\n",
       "\\textbf{Model:}                  &  ARIMA(0, 0, 1)  & \\textbf{  Log Likelihood     } & -1238.270   \\\\\n",
       "\\textbf{Date:}                   & Mon, 26 Jun 2023 & \\textbf{  AIC                } &  2482.539   \\\\\n",
       "\\textbf{Time:}                   &     13:49:16     & \\textbf{  BIC                } &  2494.239   \\\\\n",
       "\\textbf{Sample:}                 &        0         & \\textbf{  HQIC               } &  2487.189   \\\\\n",
       "\\textbf{}                        &       - 365      & \\textbf{                     } &             \\\\\n",
       "\\textbf{Covariance Type:}        &       opg        & \\textbf{                     } &             \\\\\n",
       "\\bottomrule\n",
       "\\end{tabular}\n",
       "\\begin{tabular}{lcccccc}\n",
       "                & \\textbf{coef} & \\textbf{std err} & \\textbf{z} & \\textbf{P$> |$z$|$} & \\textbf{[0.025} & \\textbf{0.975]}  \\\\\n",
       "\\midrule\n",
       "\\textbf{const}  &      41.9808  &        0.468     &    89.650  &         0.000        &       41.063    &       42.899     \\\\\n",
       "\\textbf{ma.L1}  &       0.1782  &        0.053     &     3.334  &         0.001        &        0.073    &        0.283     \\\\\n",
       "\\textbf{sigma2} &      51.7709  &        3.439     &    15.056  &         0.000        &       45.031    &       58.510     \\\\\n",
       "\\bottomrule\n",
       "\\end{tabular}\n",
       "\\begin{tabular}{lclc}\n",
       "\\textbf{Ljung-Box (L1) (Q):}     & 0.19 & \\textbf{  Jarque-Bera (JB):  } & 24.38  \\\\\n",
       "\\textbf{Prob(Q):}                & 0.66 & \\textbf{  Prob(JB):          } &  0.00  \\\\\n",
       "\\textbf{Heteroskedasticity (H):} & 1.01 & \\textbf{  Skew:              } &  0.51  \\\\\n",
       "\\textbf{Prob(H) (two-sided):}    & 0.97 & \\textbf{  Kurtosis:          } &  3.75  \\\\\n",
       "\\bottomrule\n",
       "\\end{tabular}\n",
       "%\\caption{SARIMAX Results}\n",
       "\\end{center}\n",
       "\n",
       "Warnings: \\newline\n",
       " [1] Covariance matrix calculated using the outer product of gradients (complex-step)."
      ],
      "text/plain": [
       "<class 'statsmodels.iolib.summary.Summary'>\n",
       "\"\"\"\n",
       "                               SARIMAX Results                                \n",
       "==============================================================================\n",
       "Dep. Variable:                 Births   No. Observations:                  365\n",
       "Model:                 ARIMA(0, 0, 1)   Log Likelihood               -1238.270\n",
       "Date:                Mon, 26 Jun 2023   AIC                           2482.539\n",
       "Time:                        13:49:16   BIC                           2494.239\n",
       "Sample:                             0   HQIC                          2487.189\n",
       "                                - 365                                         \n",
       "Covariance Type:                  opg                                         \n",
       "==============================================================================\n",
       "                 coef    std err          z      P>|z|      [0.025      0.975]\n",
       "------------------------------------------------------------------------------\n",
       "const         41.9808      0.468     89.650      0.000      41.063      42.899\n",
       "ma.L1          0.1782      0.053      3.334      0.001       0.073       0.283\n",
       "sigma2        51.7709      3.439     15.056      0.000      45.031      58.510\n",
       "===================================================================================\n",
       "Ljung-Box (L1) (Q):                   0.19   Jarque-Bera (JB):                24.38\n",
       "Prob(Q):                              0.66   Prob(JB):                         0.00\n",
       "Heteroskedasticity (H):               1.01   Skew:                             0.51\n",
       "Prob(H) (two-sided):                  0.97   Kurtosis:                         3.75\n",
       "===================================================================================\n",
       "\n",
       "Warnings:\n",
       "[1] Covariance matrix calculated using the outer product of gradients (complex-step).\n",
       "\"\"\""
      ]
     },
     "execution_count": 49,
     "metadata": {},
     "output_type": "execute_result"
    }
   ],
   "source": [
    "p=0\n",
    "q=1\n",
    "d=0\n",
    "ar_m1=sm.tsa.ARIMA(df,order=(p,d,q)).fit()\n",
    "ar_m1.summary()"
   ]
  },
  {
   "cell_type": "code",
   "execution_count": 50,
   "id": "bf93cb18",
   "metadata": {},
   "outputs": [
    {
     "name": "stderr",
     "output_type": "stream",
     "text": [
      "C:\\Users\\AARATI MAURYA\\anaconda3\\lib\\site-packages\\statsmodels\\tsa\\base\\tsa_model.py:473: ValueWarning: An unsupported index was provided and will be ignored when e.g. forecasting.\n",
      "  self._init_dates(dates, freq)\n",
      "C:\\Users\\AARATI MAURYA\\anaconda3\\lib\\site-packages\\statsmodels\\tsa\\base\\tsa_model.py:473: ValueWarning: An unsupported index was provided and will be ignored when e.g. forecasting.\n",
      "  self._init_dates(dates, freq)\n",
      "C:\\Users\\AARATI MAURYA\\anaconda3\\lib\\site-packages\\statsmodels\\tsa\\base\\tsa_model.py:473: ValueWarning: An unsupported index was provided and will be ignored when e.g. forecasting.\n",
      "  self._init_dates(dates, freq)\n"
     ]
    },
    {
     "data": {
      "text/html": [
       "<table class=\"simpletable\">\n",
       "<caption>SARIMAX Results</caption>\n",
       "<tr>\n",
       "  <th>Dep. Variable:</th>        <td>Births</td>      <th>  No. Observations:  </th>    <td>365</td>   \n",
       "</tr>\n",
       "<tr>\n",
       "  <th>Model:</th>            <td>ARIMA(0, 0, 2)</td>  <th>  Log Likelihood     </th> <td>-1235.566</td>\n",
       "</tr>\n",
       "<tr>\n",
       "  <th>Date:</th>            <td>Mon, 26 Jun 2023</td> <th>  AIC                </th> <td>2479.132</td> \n",
       "</tr>\n",
       "<tr>\n",
       "  <th>Time:</th>                <td>13:49:32</td>     <th>  BIC                </th> <td>2494.732</td> \n",
       "</tr>\n",
       "<tr>\n",
       "  <th>Sample:</th>                  <td>0</td>        <th>  HQIC               </th> <td>2485.331</td> \n",
       "</tr>\n",
       "<tr>\n",
       "  <th></th>                      <td> - 365</td>      <th>                     </th>     <td> </td>    \n",
       "</tr>\n",
       "<tr>\n",
       "  <th>Covariance Type:</th>        <td>opg</td>       <th>                     </th>     <td> </td>    \n",
       "</tr>\n",
       "</table>\n",
       "<table class=\"simpletable\">\n",
       "<tr>\n",
       "     <td></td>       <th>coef</th>     <th>std err</th>      <th>z</th>      <th>P>|z|</th>  <th>[0.025</th>    <th>0.975]</th>  \n",
       "</tr>\n",
       "<tr>\n",
       "  <th>const</th>  <td>   41.9817</td> <td>    0.514</td> <td>   81.721</td> <td> 0.000</td> <td>   40.975</td> <td>   42.989</td>\n",
       "</tr>\n",
       "<tr>\n",
       "  <th>ma.L1</th>  <td>    0.1845</td> <td>    0.054</td> <td>    3.408</td> <td> 0.001</td> <td>    0.078</td> <td>    0.291</td>\n",
       "</tr>\n",
       "<tr>\n",
       "  <th>ma.L2</th>  <td>    0.1154</td> <td>    0.051</td> <td>    2.243</td> <td> 0.025</td> <td>    0.015</td> <td>    0.216</td>\n",
       "</tr>\n",
       "<tr>\n",
       "  <th>sigma2</th> <td>   51.0177</td> <td>    3.540</td> <td>   14.411</td> <td> 0.000</td> <td>   44.079</td> <td>   57.956</td>\n",
       "</tr>\n",
       "</table>\n",
       "<table class=\"simpletable\">\n",
       "<tr>\n",
       "  <th>Ljung-Box (L1) (Q):</th>     <td>0.03</td> <th>  Jarque-Bera (JB):  </th> <td>19.68</td>\n",
       "</tr>\n",
       "<tr>\n",
       "  <th>Prob(Q):</th>                <td>0.87</td> <th>  Prob(JB):          </th> <td>0.00</td> \n",
       "</tr>\n",
       "<tr>\n",
       "  <th>Heteroskedasticity (H):</th> <td>0.99</td> <th>  Skew:              </th> <td>0.49</td> \n",
       "</tr>\n",
       "<tr>\n",
       "  <th>Prob(H) (two-sided):</th>    <td>0.94</td> <th>  Kurtosis:          </th> <td>3.59</td> \n",
       "</tr>\n",
       "</table><br/><br/>Warnings:<br/>[1] Covariance matrix calculated using the outer product of gradients (complex-step)."
      ],
      "text/latex": [
       "\\begin{center}\n",
       "\\begin{tabular}{lclc}\n",
       "\\toprule\n",
       "\\textbf{Dep. Variable:}          &      Births      & \\textbf{  No. Observations:  } &    365      \\\\\n",
       "\\textbf{Model:}                  &  ARIMA(0, 0, 2)  & \\textbf{  Log Likelihood     } & -1235.566   \\\\\n",
       "\\textbf{Date:}                   & Mon, 26 Jun 2023 & \\textbf{  AIC                } &  2479.132   \\\\\n",
       "\\textbf{Time:}                   &     13:49:32     & \\textbf{  BIC                } &  2494.732   \\\\\n",
       "\\textbf{Sample:}                 &        0         & \\textbf{  HQIC               } &  2485.331   \\\\\n",
       "\\textbf{}                        &       - 365      & \\textbf{                     } &             \\\\\n",
       "\\textbf{Covariance Type:}        &       opg        & \\textbf{                     } &             \\\\\n",
       "\\bottomrule\n",
       "\\end{tabular}\n",
       "\\begin{tabular}{lcccccc}\n",
       "                & \\textbf{coef} & \\textbf{std err} & \\textbf{z} & \\textbf{P$> |$z$|$} & \\textbf{[0.025} & \\textbf{0.975]}  \\\\\n",
       "\\midrule\n",
       "\\textbf{const}  &      41.9817  &        0.514     &    81.721  &         0.000        &       40.975    &       42.989     \\\\\n",
       "\\textbf{ma.L1}  &       0.1845  &        0.054     &     3.408  &         0.001        &        0.078    &        0.291     \\\\\n",
       "\\textbf{ma.L2}  &       0.1154  &        0.051     &     2.243  &         0.025        &        0.015    &        0.216     \\\\\n",
       "\\textbf{sigma2} &      51.0177  &        3.540     &    14.411  &         0.000        &       44.079    &       57.956     \\\\\n",
       "\\bottomrule\n",
       "\\end{tabular}\n",
       "\\begin{tabular}{lclc}\n",
       "\\textbf{Ljung-Box (L1) (Q):}     & 0.03 & \\textbf{  Jarque-Bera (JB):  } & 19.68  \\\\\n",
       "\\textbf{Prob(Q):}                & 0.87 & \\textbf{  Prob(JB):          } &  0.00  \\\\\n",
       "\\textbf{Heteroskedasticity (H):} & 0.99 & \\textbf{  Skew:              } &  0.49  \\\\\n",
       "\\textbf{Prob(H) (two-sided):}    & 0.94 & \\textbf{  Kurtosis:          } &  3.59  \\\\\n",
       "\\bottomrule\n",
       "\\end{tabular}\n",
       "%\\caption{SARIMAX Results}\n",
       "\\end{center}\n",
       "\n",
       "Warnings: \\newline\n",
       " [1] Covariance matrix calculated using the outer product of gradients (complex-step)."
      ],
      "text/plain": [
       "<class 'statsmodels.iolib.summary.Summary'>\n",
       "\"\"\"\n",
       "                               SARIMAX Results                                \n",
       "==============================================================================\n",
       "Dep. Variable:                 Births   No. Observations:                  365\n",
       "Model:                 ARIMA(0, 0, 2)   Log Likelihood               -1235.566\n",
       "Date:                Mon, 26 Jun 2023   AIC                           2479.132\n",
       "Time:                        13:49:32   BIC                           2494.732\n",
       "Sample:                             0   HQIC                          2485.331\n",
       "                                - 365                                         \n",
       "Covariance Type:                  opg                                         \n",
       "==============================================================================\n",
       "                 coef    std err          z      P>|z|      [0.025      0.975]\n",
       "------------------------------------------------------------------------------\n",
       "const         41.9817      0.514     81.721      0.000      40.975      42.989\n",
       "ma.L1          0.1845      0.054      3.408      0.001       0.078       0.291\n",
       "ma.L2          0.1154      0.051      2.243      0.025       0.015       0.216\n",
       "sigma2        51.0177      3.540     14.411      0.000      44.079      57.956\n",
       "===================================================================================\n",
       "Ljung-Box (L1) (Q):                   0.03   Jarque-Bera (JB):                19.68\n",
       "Prob(Q):                              0.87   Prob(JB):                         0.00\n",
       "Heteroskedasticity (H):               0.99   Skew:                             0.49\n",
       "Prob(H) (two-sided):                  0.94   Kurtosis:                         3.59\n",
       "===================================================================================\n",
       "\n",
       "Warnings:\n",
       "[1] Covariance matrix calculated using the outer product of gradients (complex-step).\n",
       "\"\"\""
      ]
     },
     "execution_count": 50,
     "metadata": {},
     "output_type": "execute_result"
    }
   ],
   "source": [
    "p=0\n",
    "q=2\n",
    "d=0\n",
    "ar_m1=sm.tsa.ARIMA(df,order=(p,d,q)).fit()\n",
    "ar_m1.summary()"
   ]
  },
  {
   "cell_type": "code",
   "execution_count": 51,
   "id": "15bae431",
   "metadata": {},
   "outputs": [
    {
     "name": "stderr",
     "output_type": "stream",
     "text": [
      "C:\\Users\\AARATI MAURYA\\anaconda3\\lib\\site-packages\\statsmodels\\tsa\\base\\tsa_model.py:473: ValueWarning: An unsupported index was provided and will be ignored when e.g. forecasting.\n",
      "  self._init_dates(dates, freq)\n",
      "C:\\Users\\AARATI MAURYA\\anaconda3\\lib\\site-packages\\statsmodels\\tsa\\base\\tsa_model.py:473: ValueWarning: An unsupported index was provided and will be ignored when e.g. forecasting.\n",
      "  self._init_dates(dates, freq)\n",
      "C:\\Users\\AARATI MAURYA\\anaconda3\\lib\\site-packages\\statsmodels\\tsa\\base\\tsa_model.py:473: ValueWarning: An unsupported index was provided and will be ignored when e.g. forecasting.\n",
      "  self._init_dates(dates, freq)\n"
     ]
    },
    {
     "data": {
      "text/html": [
       "<table class=\"simpletable\">\n",
       "<caption>SARIMAX Results</caption>\n",
       "<tr>\n",
       "  <th>Dep. Variable:</th>        <td>Births</td>      <th>  No. Observations:  </th>    <td>365</td>   \n",
       "</tr>\n",
       "<tr>\n",
       "  <th>Model:</th>            <td>ARIMA(0, 0, 3)</td>  <th>  Log Likelihood     </th> <td>-1234.469</td>\n",
       "</tr>\n",
       "<tr>\n",
       "  <th>Date:</th>            <td>Mon, 26 Jun 2023</td> <th>  AIC                </th> <td>2478.939</td> \n",
       "</tr>\n",
       "<tr>\n",
       "  <th>Time:</th>                <td>13:49:45</td>     <th>  BIC                </th> <td>2498.438</td> \n",
       "</tr>\n",
       "<tr>\n",
       "  <th>Sample:</th>                  <td>0</td>        <th>  HQIC               </th> <td>2486.688</td> \n",
       "</tr>\n",
       "<tr>\n",
       "  <th></th>                      <td> - 365</td>      <th>                     </th>     <td> </td>    \n",
       "</tr>\n",
       "<tr>\n",
       "  <th>Covariance Type:</th>        <td>opg</td>       <th>                     </th>     <td> </td>    \n",
       "</tr>\n",
       "</table>\n",
       "<table class=\"simpletable\">\n",
       "<tr>\n",
       "     <td></td>       <th>coef</th>     <th>std err</th>      <th>z</th>      <th>P>|z|</th>  <th>[0.025</th>    <th>0.975]</th>  \n",
       "</tr>\n",
       "<tr>\n",
       "  <th>const</th>  <td>   41.9817</td> <td>    0.547</td> <td>   76.712</td> <td> 0.000</td> <td>   40.909</td> <td>   43.054</td>\n",
       "</tr>\n",
       "<tr>\n",
       "  <th>ma.L1</th>  <td>    0.1847</td> <td>    0.055</td> <td>    3.342</td> <td> 0.001</td> <td>    0.076</td> <td>    0.293</td>\n",
       "</tr>\n",
       "<tr>\n",
       "  <th>ma.L2</th>  <td>    0.1250</td> <td>    0.054</td> <td>    2.303</td> <td> 0.021</td> <td>    0.019</td> <td>    0.231</td>\n",
       "</tr>\n",
       "<tr>\n",
       "  <th>ma.L3</th>  <td>    0.0802</td> <td>    0.057</td> <td>    1.415</td> <td> 0.157</td> <td>   -0.031</td> <td>    0.191</td>\n",
       "</tr>\n",
       "<tr>\n",
       "  <th>sigma2</th> <td>   50.7108</td> <td>    3.478</td> <td>   14.579</td> <td> 0.000</td> <td>   43.893</td> <td>   57.528</td>\n",
       "</tr>\n",
       "</table>\n",
       "<table class=\"simpletable\">\n",
       "<tr>\n",
       "  <th>Ljung-Box (L1) (Q):</th>     <td>0.01</td> <th>  Jarque-Bera (JB):  </th> <td>21.69</td>\n",
       "</tr>\n",
       "<tr>\n",
       "  <th>Prob(Q):</th>                <td>0.94</td> <th>  Prob(JB):          </th> <td>0.00</td> \n",
       "</tr>\n",
       "<tr>\n",
       "  <th>Heteroskedasticity (H):</th> <td>0.97</td> <th>  Skew:              </th> <td>0.49</td> \n",
       "</tr>\n",
       "<tr>\n",
       "  <th>Prob(H) (two-sided):</th>    <td>0.85</td> <th>  Kurtosis:          </th> <td>3.69</td> \n",
       "</tr>\n",
       "</table><br/><br/>Warnings:<br/>[1] Covariance matrix calculated using the outer product of gradients (complex-step)."
      ],
      "text/latex": [
       "\\begin{center}\n",
       "\\begin{tabular}{lclc}\n",
       "\\toprule\n",
       "\\textbf{Dep. Variable:}          &      Births      & \\textbf{  No. Observations:  } &    365      \\\\\n",
       "\\textbf{Model:}                  &  ARIMA(0, 0, 3)  & \\textbf{  Log Likelihood     } & -1234.469   \\\\\n",
       "\\textbf{Date:}                   & Mon, 26 Jun 2023 & \\textbf{  AIC                } &  2478.939   \\\\\n",
       "\\textbf{Time:}                   &     13:49:45     & \\textbf{  BIC                } &  2498.438   \\\\\n",
       "\\textbf{Sample:}                 &        0         & \\textbf{  HQIC               } &  2486.688   \\\\\n",
       "\\textbf{}                        &       - 365      & \\textbf{                     } &             \\\\\n",
       "\\textbf{Covariance Type:}        &       opg        & \\textbf{                     } &             \\\\\n",
       "\\bottomrule\n",
       "\\end{tabular}\n",
       "\\begin{tabular}{lcccccc}\n",
       "                & \\textbf{coef} & \\textbf{std err} & \\textbf{z} & \\textbf{P$> |$z$|$} & \\textbf{[0.025} & \\textbf{0.975]}  \\\\\n",
       "\\midrule\n",
       "\\textbf{const}  &      41.9817  &        0.547     &    76.712  &         0.000        &       40.909    &       43.054     \\\\\n",
       "\\textbf{ma.L1}  &       0.1847  &        0.055     &     3.342  &         0.001        &        0.076    &        0.293     \\\\\n",
       "\\textbf{ma.L2}  &       0.1250  &        0.054     &     2.303  &         0.021        &        0.019    &        0.231     \\\\\n",
       "\\textbf{ma.L3}  &       0.0802  &        0.057     &     1.415  &         0.157        &       -0.031    &        0.191     \\\\\n",
       "\\textbf{sigma2} &      50.7108  &        3.478     &    14.579  &         0.000        &       43.893    &       57.528     \\\\\n",
       "\\bottomrule\n",
       "\\end{tabular}\n",
       "\\begin{tabular}{lclc}\n",
       "\\textbf{Ljung-Box (L1) (Q):}     & 0.01 & \\textbf{  Jarque-Bera (JB):  } & 21.69  \\\\\n",
       "\\textbf{Prob(Q):}                & 0.94 & \\textbf{  Prob(JB):          } &  0.00  \\\\\n",
       "\\textbf{Heteroskedasticity (H):} & 0.97 & \\textbf{  Skew:              } &  0.49  \\\\\n",
       "\\textbf{Prob(H) (two-sided):}    & 0.85 & \\textbf{  Kurtosis:          } &  3.69  \\\\\n",
       "\\bottomrule\n",
       "\\end{tabular}\n",
       "%\\caption{SARIMAX Results}\n",
       "\\end{center}\n",
       "\n",
       "Warnings: \\newline\n",
       " [1] Covariance matrix calculated using the outer product of gradients (complex-step)."
      ],
      "text/plain": [
       "<class 'statsmodels.iolib.summary.Summary'>\n",
       "\"\"\"\n",
       "                               SARIMAX Results                                \n",
       "==============================================================================\n",
       "Dep. Variable:                 Births   No. Observations:                  365\n",
       "Model:                 ARIMA(0, 0, 3)   Log Likelihood               -1234.469\n",
       "Date:                Mon, 26 Jun 2023   AIC                           2478.939\n",
       "Time:                        13:49:45   BIC                           2498.438\n",
       "Sample:                             0   HQIC                          2486.688\n",
       "                                - 365                                         \n",
       "Covariance Type:                  opg                                         \n",
       "==============================================================================\n",
       "                 coef    std err          z      P>|z|      [0.025      0.975]\n",
       "------------------------------------------------------------------------------\n",
       "const         41.9817      0.547     76.712      0.000      40.909      43.054\n",
       "ma.L1          0.1847      0.055      3.342      0.001       0.076       0.293\n",
       "ma.L2          0.1250      0.054      2.303      0.021       0.019       0.231\n",
       "ma.L3          0.0802      0.057      1.415      0.157      -0.031       0.191\n",
       "sigma2        50.7108      3.478     14.579      0.000      43.893      57.528\n",
       "===================================================================================\n",
       "Ljung-Box (L1) (Q):                   0.01   Jarque-Bera (JB):                21.69\n",
       "Prob(Q):                              0.94   Prob(JB):                         0.00\n",
       "Heteroskedasticity (H):               0.97   Skew:                             0.49\n",
       "Prob(H) (two-sided):                  0.85   Kurtosis:                         3.69\n",
       "===================================================================================\n",
       "\n",
       "Warnings:\n",
       "[1] Covariance matrix calculated using the outer product of gradients (complex-step).\n",
       "\"\"\""
      ]
     },
     "execution_count": 51,
     "metadata": {},
     "output_type": "execute_result"
    }
   ],
   "source": [
    "p=0\n",
    "q=3\n",
    "d=0\n",
    "ar_m1=sm.tsa.ARIMA(df,order=(p,d,q)).fit()\n",
    "ar_m1.summary()"
   ]
  },
  {
   "cell_type": "code",
   "execution_count": 52,
   "id": "91d37874",
   "metadata": {},
   "outputs": [],
   "source": [
    "# for q=3 , Aic is lowest , MA(3) is best"
   ]
  },
  {
   "cell_type": "code",
   "execution_count": null,
   "id": "37d4e4ca",
   "metadata": {},
   "outputs": [],
   "source": [
    "# ARMA model"
   ]
  },
  {
   "cell_type": "code",
   "execution_count": 57,
   "id": "a41597e8",
   "metadata": {},
   "outputs": [],
   "source": [
    "# splitting the data"
   ]
  },
  {
   "cell_type": "code",
   "execution_count": null,
   "id": "7c6cabe3",
   "metadata": {},
   "outputs": [],
   "source": []
  },
  {
   "cell_type": "code",
   "execution_count": 59,
   "id": "17a735dc",
   "metadata": {},
   "outputs": [],
   "source": [
    "split_data = int(0.7*len(df))\n",
    "train_data=df.iloc[:split_data]\n",
    "test_data = df.iloc[split_data:]"
   ]
  },
  {
   "cell_type": "code",
   "execution_count": 60,
   "id": "36744906",
   "metadata": {},
   "outputs": [
    {
     "data": {
      "text/plain": [
       "255"
      ]
     },
     "execution_count": 60,
     "metadata": {},
     "output_type": "execute_result"
    }
   ],
   "source": [
    "len(train_data)"
   ]
  },
  {
   "cell_type": "code",
   "execution_count": 61,
   "id": "8722df66",
   "metadata": {},
   "outputs": [],
   "source": [
    "# aic : akaike information criteria"
   ]
  },
  {
   "cell_type": "code",
   "execution_count": 68,
   "id": "0adcd213",
   "metadata": {},
   "outputs": [
    {
     "name": "stderr",
     "output_type": "stream",
     "text": [
      "C:\\Users\\AARATI MAURYA\\anaconda3\\lib\\site-packages\\statsmodels\\tsa\\base\\tsa_model.py:473: ValueWarning: An unsupported index was provided and will be ignored when e.g. forecasting.\n",
      "  self._init_dates(dates, freq)\n",
      "C:\\Users\\AARATI MAURYA\\anaconda3\\lib\\site-packages\\statsmodels\\tsa\\base\\tsa_model.py:473: ValueWarning: An unsupported index was provided and will be ignored when e.g. forecasting.\n",
      "  self._init_dates(dates, freq)\n",
      "C:\\Users\\AARATI MAURYA\\anaconda3\\lib\\site-packages\\statsmodels\\tsa\\base\\tsa_model.py:473: ValueWarning: An unsupported index was provided and will be ignored when e.g. forecasting.\n",
      "  self._init_dates(dates, freq)\n"
     ]
    },
    {
     "data": {
      "text/plain": [
       "1724.4135453812528"
      ]
     },
     "execution_count": 68,
     "metadata": {},
     "output_type": "execute_result"
    }
   ],
   "source": [
    "p=1\n",
    "q=1\n",
    "d=0\n",
    "ar_m2=sm.tsa.ARIMA(train_data,order=(p,d,q)).fit()\n",
    "ar_m2.aic"
   ]
  },
  {
   "cell_type": "code",
   "execution_count": 73,
   "id": "60114e2a",
   "metadata": {},
   "outputs": [
    {
     "name": "stderr",
     "output_type": "stream",
     "text": [
      "C:\\Users\\AARATI MAURYA\\anaconda3\\lib\\site-packages\\statsmodels\\tsa\\base\\tsa_model.py:473: ValueWarning: An unsupported index was provided and will be ignored when e.g. forecasting.\n",
      "  self._init_dates(dates, freq)\n",
      "C:\\Users\\AARATI MAURYA\\anaconda3\\lib\\site-packages\\statsmodels\\tsa\\base\\tsa_model.py:473: ValueWarning: An unsupported index was provided and will be ignored when e.g. forecasting.\n",
      "  self._init_dates(dates, freq)\n",
      "C:\\Users\\AARATI MAURYA\\anaconda3\\lib\\site-packages\\statsmodels\\tsa\\base\\tsa_model.py:473: ValueWarning: An unsupported index was provided and will be ignored when e.g. forecasting.\n",
      "  self._init_dates(dates, freq)\n"
     ]
    },
    {
     "data": {
      "text/plain": [
       "1729.0224404241553"
      ]
     },
     "execution_count": 73,
     "metadata": {},
     "output_type": "execute_result"
    }
   ],
   "source": [
    "p=2\n",
    "q=1\n",
    "d=0\n",
    "ar_m3=sm.tsa.ARIMA(train_data,order=(p,d,q)).fit()\n",
    "ar_m3.aic"
   ]
  },
  {
   "cell_type": "code",
   "execution_count": 74,
   "id": "1bf2dae2",
   "metadata": {},
   "outputs": [
    {
     "name": "stderr",
     "output_type": "stream",
     "text": [
      "C:\\Users\\AARATI MAURYA\\anaconda3\\lib\\site-packages\\statsmodels\\tsa\\base\\tsa_model.py:473: ValueWarning: An unsupported index was provided and will be ignored when e.g. forecasting.\n",
      "  self._init_dates(dates, freq)\n",
      "C:\\Users\\AARATI MAURYA\\anaconda3\\lib\\site-packages\\statsmodels\\tsa\\base\\tsa_model.py:473: ValueWarning: An unsupported index was provided and will be ignored when e.g. forecasting.\n",
      "  self._init_dates(dates, freq)\n",
      "C:\\Users\\AARATI MAURYA\\anaconda3\\lib\\site-packages\\statsmodels\\tsa\\base\\tsa_model.py:473: ValueWarning: An unsupported index was provided and will be ignored when e.g. forecasting.\n",
      "  self._init_dates(dates, freq)\n"
     ]
    },
    {
     "data": {
      "text/plain": [
       "1729.029091774826"
      ]
     },
     "execution_count": 74,
     "metadata": {},
     "output_type": "execute_result"
    }
   ],
   "source": [
    "p=1\n",
    "q=2\n",
    "d=0\n",
    "ar_m4=sm.tsa.ARIMA(train_data,order=(p,d,q)).fit()\n",
    "ar_m4.aic"
   ]
  },
  {
   "cell_type": "code",
   "execution_count": 76,
   "id": "79dd155d",
   "metadata": {},
   "outputs": [
    {
     "name": "stderr",
     "output_type": "stream",
     "text": [
      "C:\\Users\\AARATI MAURYA\\anaconda3\\lib\\site-packages\\statsmodels\\tsa\\base\\tsa_model.py:473: ValueWarning: An unsupported index was provided and will be ignored when e.g. forecasting.\n",
      "  self._init_dates(dates, freq)\n",
      "C:\\Users\\AARATI MAURYA\\anaconda3\\lib\\site-packages\\statsmodels\\tsa\\base\\tsa_model.py:473: ValueWarning: An unsupported index was provided and will be ignored when e.g. forecasting.\n",
      "  self._init_dates(dates, freq)\n",
      "C:\\Users\\AARATI MAURYA\\anaconda3\\lib\\site-packages\\statsmodels\\tsa\\base\\tsa_model.py:473: ValueWarning: An unsupported index was provided and will be ignored when e.g. forecasting.\n",
      "  self._init_dates(dates, freq)\n",
      "C:\\Users\\AARATI MAURYA\\anaconda3\\lib\\site-packages\\statsmodels\\tsa\\statespace\\sarimax.py:966: UserWarning: Non-stationary starting autoregressive parameters found. Using zeros as starting parameters.\n",
      "  warn('Non-stationary starting autoregressive parameters'\n",
      "C:\\Users\\AARATI MAURYA\\anaconda3\\lib\\site-packages\\statsmodels\\tsa\\statespace\\sarimax.py:978: UserWarning: Non-invertible starting MA parameters found. Using zeros as starting parameters.\n",
      "  warn('Non-invertible starting MA parameters found.'\n",
      "C:\\Users\\AARATI MAURYA\\anaconda3\\lib\\site-packages\\statsmodels\\base\\model.py:607: ConvergenceWarning: Maximum Likelihood optimization failed to converge. Check mle_retvals\n",
      "  warnings.warn(\"Maximum Likelihood optimization failed to \"\n"
     ]
    },
    {
     "data": {
      "text/plain": [
       "1727.4903425277387"
      ]
     },
     "execution_count": 76,
     "metadata": {},
     "output_type": "execute_result"
    }
   ],
   "source": [
    "p=2\n",
    "q=3\n",
    "d=0\n",
    "ar_m1=sm.tsa.ARIMA(train_data,order=(p,d,q)).fit()\n",
    "ar_m1.aic"
   ]
  },
  {
   "cell_type": "code",
   "execution_count": 71,
   "id": "1a8d307c",
   "metadata": {},
   "outputs": [],
   "source": [
    "# arma model with p=1, q=1 , have least aic score"
   ]
  },
  {
   "cell_type": "code",
   "execution_count": 77,
   "id": "09ad5cf3",
   "metadata": {},
   "outputs": [],
   "source": [
    "pred_data=ar_m2.predict(0,len(test_data)-1)"
   ]
  },
  {
   "cell_type": "code",
   "execution_count": 81,
   "id": "58c31141",
   "metadata": {
    "scrolled": true
   },
   "outputs": [],
   "source": [
    "test=[]\n",
    "pred=[]\n",
    "\n",
    "for i in range(len(test_data)):\n",
    "    test.append(test_data[i])\n",
    "    pred.append(pred_data[i])\n",
    "    \n",
    "    "
   ]
  },
  {
   "cell_type": "code",
   "execution_count": 80,
   "id": "857db028",
   "metadata": {},
   "outputs": [
    {
     "data": {
      "text/plain": [
       "<matplotlib.collections.PathCollection at 0x1894b03b010>"
      ]
     },
     "execution_count": 80,
     "metadata": {},
     "output_type": "execute_result"
    },
    {
     "data": {
      "image/png": "[encoded data removed]",
      "text/plain": [
       "<Figure size 640x480 with 1 Axes>"
      ]
     },
     "metadata": {},
     "output_type": "display_data"
    }
   ],
   "source": [
    "plt.scatter(test_data,pred_data)"
   ]
  },
  {
   "cell_type": "code",
   "execution_count": null,
   "id": "1ba4f5c2",
   "metadata": {},
   "outputs": [],
   "source": []
  },
  {
   "cell_type": "code",
   "execution_count": 82,
   "id": "86eccadd",
   "metadata": {},
   "outputs": [],
   "source": [
    "from statsmodels.stats.diagnostic import acorr_ljungbox"
   ]
  },
  {
   "cell_type": "code",
   "execution_count": 86,
   "id": "f091d4e9",
   "metadata": {},
   "outputs": [
    {
     "data": {
      "text/html": [
       "<div>\n",
       "<style scoped>\n",
       "    .dataframe tbody tr th:only-of-type {\n",
       "        vertical-align: middle;\n",
       "    }\n",
       "\n",
       "    .dataframe tbody tr th {\n",
       "        vertical-align: top;\n",
       "    }\n",
       "\n",
       "    .dataframe thead th {\n",
       "        text-align: right;\n",
       "    }\n",
       "</style>\n",
       "<table border=\"1\" class=\"dataframe\">\n",
       "  <thead>\n",
       "    <tr style=\"text-align: right;\">\n",
       "      <th></th>\n",
       "      <th>lb_stat</th>\n",
       "      <th>lb_pvalue</th>\n",
       "    </tr>\n",
       "  </thead>\n",
       "  <tbody>\n",
       "    <tr>\n",
       "      <th>1</th>\n",
       "      <td>0.54025</td>\n",
       "      <td>0.462329</td>\n",
       "    </tr>\n",
       "  </tbody>\n",
       "</table>\n",
       "</div>"
      ],
      "text/plain": [
       "   lb_stat  lb_pvalue\n",
       "1  0.54025   0.462329"
      ]
     },
     "execution_count": 86,
     "metadata": {},
     "output_type": "execute_result"
    }
   ],
   "source": [
    "lb_p_value=acorr_ljungbox(ar_m2.resid,lags=[1],return_df=True)\n",
    "lb_p_value"
   ]
  },
  {
   "cell_type": "code",
   "execution_count": 91,
   "id": "11b83b33",
   "metadata": {},
   "outputs": [],
   "source": [
    "from sklearn.metrics import mean_squared_error\n",
    "from sklearn.metrics import mean_absolute_percentage_error"
   ]
  },
  {
   "cell_type": "code",
   "execution_count": 87,
   "id": "ba9836d0",
   "metadata": {},
   "outputs": [],
   "source": [
    "# pvalue>0.05 , accept the null hypo. , Good model , no auto correleration"
   ]
  },
  {
   "cell_type": "code",
   "execution_count": 94,
   "id": "4c0dac6d",
   "metadata": {},
   "outputs": [
    {
     "data": {
      "text/plain": [
       "8.672592577899001"
      ]
     },
     "execution_count": 94,
     "metadata": {},
     "output_type": "execute_result"
    }
   ],
   "source": [
    "mean_squared_error(test_data,pred_data,squared=False)"
   ]
  },
  {
   "cell_type": "code",
   "execution_count": 92,
   "id": "6385183b",
   "metadata": {},
   "outputs": [
    {
     "data": {
      "text/plain": [
       "0.1381705585299254"
      ]
     },
     "execution_count": 92,
     "metadata": {},
     "output_type": "execute_result"
    }
   ],
   "source": [
    "mean_absolute_percentage_error(test_data,pred_data)"
   ]
  },
  {
   "cell_type": "code",
   "execution_count": null,
   "id": "0f6a5ea3",
   "metadata": {},
   "outputs": [],
   "source": []
  }
 ],
 "metadata": {
  "kernelspec": {
   "display_name": "Python 3 (ipykernel)",
   "language": "python",
   "name": "python3"
  },
  "language_info": {
   "codemirror_mode": {
    "name": "ipython",
    "version": 3
   },
   "file_extension": ".py",
   "mimetype": "text/x-python",
   "name": "python",
   "nbconvert_exporter": "python",
   "pygments_lexer": "ipython3",
   "version": "3.10.9"
  }
 },
 "nbformat": 4,
 "nbformat_minor": 5
}
