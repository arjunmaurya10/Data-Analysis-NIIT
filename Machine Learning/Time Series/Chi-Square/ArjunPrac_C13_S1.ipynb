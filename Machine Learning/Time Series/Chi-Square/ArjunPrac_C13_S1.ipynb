{
 "cells": [
  {
   "cell_type": "markdown",
   "id": "1a0ed0bc",
   "metadata": {},
   "source": [
    "# Chi SQ Pract"
   ]
  },
  {
   "cell_type": "code",
   "execution_count": 1,
   "id": "d50a266e",
   "metadata": {},
   "outputs": [],
   "source": [
    "import scipy.stats as st\n",
    "import numpy as np\n",
    "import matplotlib.pyplot as plt\n"
   ]
  },
  {
   "cell_type": "markdown",
   "id": "f338a697",
   "metadata": {},
   "source": [
    "**Task1**"
   ]
  },
  {
   "cell_type": "code",
   "execution_count": 2,
   "id": "187d5ba8",
   "metadata": {},
   "outputs": [],
   "source": [
    "# Ho : Response frequency matches the expected \n",
    "# Ha: Response frequency does not match"
   ]
  },
  {
   "cell_type": "code",
   "execution_count": 3,
   "id": "d76688bd",
   "metadata": {},
   "outputs": [],
   "source": [
    "survey = [24,108,61,14]"
   ]
  },
  {
   "cell_type": "code",
   "execution_count": 4,
   "id": "a7b0a7eb",
   "metadata": {},
   "outputs": [
    {
     "data": {
      "text/plain": [
       "4"
      ]
     },
     "execution_count": 4,
     "metadata": {},
     "output_type": "execute_result"
    }
   ],
   "source": [
    "n=len(survey)\n",
    "n"
   ]
  },
  {
   "cell_type": "code",
   "execution_count": 5,
   "id": "6b4d6f00",
   "metadata": {},
   "outputs": [
    {
     "data": {
      "text/plain": [
       "51.75"
      ]
     },
     "execution_count": 5,
     "metadata": {},
     "output_type": "execute_result"
    }
   ],
   "source": [
    "expected_value=sum(survey)/n\n",
    "expected_value"
   ]
  },
  {
   "cell_type": "code",
   "execution_count": 6,
   "id": "e9f69895",
   "metadata": {},
   "outputs": [
    {
     "name": "stdout",
     "output_type": "stream",
     "text": [
      "105.21256038647343\n"
     ]
    }
   ],
   "source": [
    "chiq=0\n",
    "for obs in survey:\n",
    "    chiq=chiq+(obs-expected_value)**2/expected_value\n",
    "    \n",
    "x2_statistics=chiq\n",
    "print(x2_statistics)"
   ]
  },
  {
   "cell_type": "code",
   "execution_count": 7,
   "id": "99e173f7",
   "metadata": {},
   "outputs": [
    {
     "data": {
      "text/plain": [
       "7.814727903251179"
      ]
     },
     "execution_count": 7,
     "metadata": {},
     "output_type": "execute_result"
    }
   ],
   "source": [
    "#critical value\n",
    "alpha=0.05\n",
    "\n",
    "x2_critical=st.chi2.ppf(1-alpha,df=n-1)\n",
    "x2_critical"
   ]
  },
  {
   "cell_type": "code",
   "execution_count": 16,
   "id": "b1627d99",
   "metadata": {},
   "outputs": [
    {
     "data": {
      "text/plain": [
       "0.0"
      ]
     },
     "execution_count": 16,
     "metadata": {},
     "output_type": "execute_result"
    }
   ],
   "source": [
    "p_value=st.norm.sf(abs(chiq),n-1)\n",
    "p_value"
   ]
  },
  {
   "cell_type": "code",
   "execution_count": 9,
   "id": "c922f8bb",
   "metadata": {},
   "outputs": [],
   "source": [
    "#p_value < alpha :Reject the null hypothesis\n",
    "#x2_stat>x2_critical : Reject the null hypothesis"
   ]
  },
  {
   "cell_type": "markdown",
   "id": "979c23f7",
   "metadata": {},
   "source": [
    "**The response frequency does not match expected frequency**"
   ]
  },
  {
   "cell_type": "code",
   "execution_count": 41,
   "id": "24c8e49d",
   "metadata": {},
   "outputs": [
    {
     "data": {
      "text/plain": [
       "[<matplotlib.lines.Line2D at 0x179e2092bb0>]"
      ]
     },
     "execution_count": 41,
     "metadata": {},
     "output_type": "execute_result"
    },
    {
     "data": {
      "image/png": "[encoded data removed]",
      "text/plain": [
       "<Figure size 640x480 with 1 Axes>"
      ]
     },
     "metadata": {},
     "output_type": "display_data"
    }
   ],
   "source": [
    "val=np.arange(0,12,0.02)\n",
    "plt.plot(val,st.chi2.pdf(val,n-1))"
   ]
  },
  {
   "cell_type": "code",
   "execution_count": null,
   "id": "89bf61aa",
   "metadata": {},
   "outputs": [],
   "source": []
  },
  {
   "cell_type": "markdown",
   "id": "7929e9ed",
   "metadata": {},
   "source": [
    "**Task2**"
   ]
  },
  {
   "cell_type": "code",
   "execution_count": 17,
   "id": "078bb428",
   "metadata": {},
   "outputs": [],
   "source": [
    "# Ho: bedrooms and no. of stories are independent\n",
    "# Ha: bedrooms and no. of stories are not independent "
   ]
  },
  {
   "cell_type": "code",
   "execution_count": 18,
   "id": "1c26319e",
   "metadata": {},
   "outputs": [],
   "source": [
    "stories =[[116,101,57],[90,325,160]] # 3x2 or 2x3"
   ]
  },
  {
   "cell_type": "code",
   "execution_count": 19,
   "id": "2a11da0f",
   "metadata": {},
   "outputs": [],
   "source": [
    "x2_stat,p_value,df,expected_value=st.chi2_contingency(stories)"
   ]
  },
  {
   "cell_type": "code",
   "execution_count": 20,
   "id": "9798cda5",
   "metadata": {},
   "outputs": [
    {
     "data": {
      "text/plain": [
       "72.33176626617666"
      ]
     },
     "execution_count": 20,
     "metadata": {},
     "output_type": "execute_result"
    }
   ],
   "source": [
    "x2_stat"
   ]
  },
  {
   "cell_type": "code",
   "execution_count": 21,
   "id": "acfc6f84",
   "metadata": {},
   "outputs": [
    {
     "data": {
      "text/plain": [
       "1.9649727053475884e-16"
      ]
     },
     "execution_count": 21,
     "metadata": {},
     "output_type": "execute_result"
    }
   ],
   "source": [
    "p_value"
   ]
  },
  {
   "cell_type": "code",
   "execution_count": 22,
   "id": "0cc9b404",
   "metadata": {},
   "outputs": [
    {
     "data": {
      "text/plain": [
       "2"
      ]
     },
     "execution_count": 22,
     "metadata": {},
     "output_type": "execute_result"
    }
   ],
   "source": [
    "df"
   ]
  },
  {
   "cell_type": "code",
   "execution_count": 23,
   "id": "a7598d12",
   "metadata": {},
   "outputs": [
    {
     "data": {
      "text/plain": [
       "array([[ 66.48292108, 137.48409894,  70.03297998],\n",
       "       [139.51707892, 288.51590106, 146.96702002]])"
      ]
     },
     "execution_count": 23,
     "metadata": {},
     "output_type": "execute_result"
    }
   ],
   "source": [
    "expected_value"
   ]
  },
  {
   "cell_type": "code",
   "execution_count": 24,
   "id": "56662833",
   "metadata": {},
   "outputs": [],
   "source": [
    "alpha=0.1"
   ]
  },
  {
   "cell_type": "code",
   "execution_count": 33,
   "id": "0c4a4892",
   "metadata": {},
   "outputs": [],
   "source": [
    "x2_critical=st.chi2.ppf(1-alpha,2)"
   ]
  },
  {
   "cell_type": "code",
   "execution_count": 34,
   "id": "cc53955e",
   "metadata": {},
   "outputs": [
    {
     "data": {
      "text/plain": [
       "4.605170185988092"
      ]
     },
     "execution_count": 34,
     "metadata": {},
     "output_type": "execute_result"
    }
   ],
   "source": [
    "x2_critical"
   ]
  },
  {
   "cell_type": "code",
   "execution_count": 35,
   "id": "58e4fbc4",
   "metadata": {},
   "outputs": [],
   "source": [
    "#p_value<alpha : Reject the Ho\n",
    "#x2stat>x2critical : Reject the Ho"
   ]
  },
  {
   "cell_type": "markdown",
   "id": "b754a88c",
   "metadata": {},
   "source": [
    "**bedrooms and no. of stories are not independent**"
   ]
  },
  {
   "cell_type": "code",
   "execution_count": 44,
   "id": "1fbf96dc",
   "metadata": {},
   "outputs": [
    {
     "data": {
      "text/plain": [
       "[<matplotlib.lines.Line2D at 0x179e22e2fa0>]"
      ]
     },
     "execution_count": 44,
     "metadata": {},
     "output_type": "execute_result"
    },
    {
     "data": {
      "image/png": "[encoded data removed]",
      "text/plain": [
       "<Figure size 640x480 with 1 Axes>"
      ]
     },
     "metadata": {},
     "output_type": "display_data"
    }
   ],
   "source": [
    "val=np.arange(0,10,0.02)\n",
    "plt.plot(val,st.chi2.pdf(val,df))"
   ]
  },
  {
   "cell_type": "code",
   "execution_count": null,
   "id": "9a7b4e79",
   "metadata": {},
   "outputs": [],
   "source": []
  }
 ],
 "metadata": {
  "kernelspec": {
   "display_name": "Python 3 (ipykernel)",
   "language": "python",
   "name": "python3"
  },
  "language_info": {
   "codemirror_mode": {
    "name": "ipython",
    "version": 3
   },
   "file_extension": ".py",
   "mimetype": "text/x-python",
   "name": "python",
   "nbconvert_exporter": "python",
   "pygments_lexer": "ipython3",
   "version": "3.10.9"
  }
 },
 "nbformat": 4,
 "nbformat_minor": 5
}
