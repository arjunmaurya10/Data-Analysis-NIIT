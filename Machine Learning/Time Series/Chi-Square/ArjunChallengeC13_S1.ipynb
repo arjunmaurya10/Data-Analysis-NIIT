{
 "cells": [
  {
   "cell_type": "markdown",
   "id": "ee65e083",
   "metadata": {},
   "source": [
    "# chi Challenge "
   ]
  },
  {
   "cell_type": "code",
   "execution_count": 1,
   "id": "fee5cbe1",
   "metadata": {},
   "outputs": [],
   "source": [
    "import scipy.stats as st\n",
    "import numpy as np\n",
    "import matplotlib.pyplot as plt"
   ]
  },
  {
   "cell_type": "markdown",
   "id": "78025313",
   "metadata": {},
   "source": [
    "**Task1**"
   ]
  },
  {
   "cell_type": "code",
   "execution_count": 2,
   "id": "fd8a57c1",
   "metadata": {},
   "outputs": [],
   "source": [
    "# Ho: acceptance of both type of appl. have same distribution\n",
    "# Ha: acceptance of both type of app. do not have same distribution\n"
   ]
  },
  {
   "cell_type": "code",
   "execution_count": 35,
   "id": "a6608bf2",
   "metadata": {},
   "outputs": [],
   "source": [
    "colleg =[[2115,577],[1792,627],[5304,1228],[1734,444],[2685,1195],[1245,761]]"
   ]
  },
  {
   "cell_type": "code",
   "execution_count": 36,
   "id": "fa05bff0",
   "metadata": {},
   "outputs": [],
   "source": [
    "x2_stat,p_value,df,expected_value=st.chi2_contingency(colleg)"
   ]
  },
  {
   "cell_type": "code",
   "execution_count": 37,
   "id": "4cf37111",
   "metadata": {},
   "outputs": [
    {
     "data": {
      "text/plain": [
       "429.7661086064742"
      ]
     },
     "execution_count": 37,
     "metadata": {},
     "output_type": "execute_result"
    }
   ],
   "source": [
    "x2_stat"
   ]
  },
  {
   "cell_type": "code",
   "execution_count": 38,
   "id": "23cae43d",
   "metadata": {},
   "outputs": [
    {
     "data": {
      "text/plain": [
       "1.135456188482975e-90"
      ]
     },
     "execution_count": 38,
     "metadata": {},
     "output_type": "execute_result"
    }
   ],
   "source": [
    "p_value"
   ]
  },
  {
   "cell_type": "code",
   "execution_count": 39,
   "id": "7a92c0c3",
   "metadata": {},
   "outputs": [
    {
     "data": {
      "text/plain": [
       "5"
      ]
     },
     "execution_count": 39,
     "metadata": {},
     "output_type": "execute_result"
    }
   ],
   "source": [
    "df"
   ]
  },
  {
   "cell_type": "code",
   "execution_count": 40,
   "id": "6bbc48f0",
   "metadata": {},
   "outputs": [
    {
     "data": {
      "text/plain": [
       "array([[2031.94296443,  660.05703557],\n",
       "       [1825.88039783,  593.11960217],\n",
       "       [4930.40543969, 1601.59456031],\n",
       "       [1643.97168519,  534.02831481],\n",
       "       [2928.65479271,  951.34520729],\n",
       "       [1514.14472015,  491.85527985]])"
      ]
     },
     "execution_count": 40,
     "metadata": {},
     "output_type": "execute_result"
    }
   ],
   "source": [
    "expected_value"
   ]
  },
  {
   "cell_type": "code",
   "execution_count": 41,
   "id": "222ba89c",
   "metadata": {},
   "outputs": [],
   "source": [
    "alpha=0.05"
   ]
  },
  {
   "cell_type": "code",
   "execution_count": 44,
   "id": "20c88b8f",
   "metadata": {},
   "outputs": [],
   "source": [
    "x2_critical=st.chi2.ppf(1-alpha,2)"
   ]
  },
  {
   "cell_type": "code",
   "execution_count": 45,
   "id": "7b4240fa",
   "metadata": {},
   "outputs": [
    {
     "data": {
      "text/plain": [
       "5.991464547107979"
      ]
     },
     "execution_count": 45,
     "metadata": {},
     "output_type": "execute_result"
    }
   ],
   "source": [
    "x2_critical"
   ]
  },
  {
   "cell_type": "code",
   "execution_count": null,
   "id": "f96f2ab3",
   "metadata": {},
   "outputs": [],
   "source": [
    "# p_value<alpha  : Reject the null hypo.\n",
    "# xstat>xcritical : Reject the null hypo."
   ]
  },
  {
   "cell_type": "markdown",
   "id": "fca9656a",
   "metadata": {},
   "source": [
    "**accpectance of both the app. have different distribution**\n"
   ]
  },
  {
   "cell_type": "code",
   "execution_count": 21,
   "id": "27f602b1",
   "metadata": {},
   "outputs": [
    {
     "data": {
      "text/plain": [
       "[<matplotlib.lines.Line2D at 0x268b250d430>]"
      ]
     },
     "execution_count": 21,
     "metadata": {},
     "output_type": "execute_result"
    },
    {
     "data": {
      "image/png": "[encoded data removed]",
      "text/plain": [
       "<Figure size 640x480 with 1 Axes>"
      ]
     },
     "metadata": {},
     "output_type": "display_data"
    }
   ],
   "source": [
    "val=np.arange(0,19,0.02)\n",
    "plt.plot(val,st.chi2.pdf(val,df))"
   ]
  },
  {
   "cell_type": "code",
   "execution_count": null,
   "id": "7c49a114",
   "metadata": {},
   "outputs": [],
   "source": []
  },
  {
   "cell_type": "markdown",
   "id": "7094d003",
   "metadata": {},
   "source": [
    "**Task2**"
   ]
  },
  {
   "cell_type": "code",
   "execution_count": 22,
   "id": "ec0e983e",
   "metadata": {},
   "outputs": [],
   "source": [
    "# Ho : Frequency distribution of female matches male\n",
    "# Ha: frequency distribution of female does not matches male."
   ]
  },
  {
   "cell_type": "code",
   "execution_count": 23,
   "id": "dd6deecb",
   "metadata": {},
   "outputs": [],
   "source": [
    "success =[[40,42],[18,95],[12,27],[30,63]]"
   ]
  },
  {
   "cell_type": "code",
   "execution_count": 24,
   "id": "39d11b9a",
   "metadata": {},
   "outputs": [],
   "source": [
    "x1_stat,p_value1,df1,expected_value1=st.chi2_contingency(success)"
   ]
  },
  {
   "cell_type": "code",
   "execution_count": 25,
   "id": "ded25016",
   "metadata": {},
   "outputs": [
    {
     "data": {
      "text/plain": [
       "24.344666985691266"
      ]
     },
     "execution_count": 25,
     "metadata": {},
     "output_type": "execute_result"
    }
   ],
   "source": [
    "x1_stat"
   ]
  },
  {
   "cell_type": "code",
   "execution_count": 26,
   "id": "0fb87d5d",
   "metadata": {},
   "outputs": [
    {
     "data": {
      "text/plain": [
       "2.1164882048983975e-05"
      ]
     },
     "execution_count": 26,
     "metadata": {},
     "output_type": "execute_result"
    }
   ],
   "source": [
    "p_value1"
   ]
  },
  {
   "cell_type": "code",
   "execution_count": 27,
   "id": "bdc25ccc",
   "metadata": {},
   "outputs": [
    {
     "data": {
      "text/plain": [
       "3"
      ]
     },
     "execution_count": 27,
     "metadata": {},
     "output_type": "execute_result"
    }
   ],
   "source": [
    "df1"
   ]
  },
  {
   "cell_type": "code",
   "execution_count": 28,
   "id": "e077df70",
   "metadata": {},
   "outputs": [
    {
     "data": {
      "text/plain": [
       "array([[25.0764526 , 56.9235474 ],\n",
       "       [34.55657492, 78.44342508],\n",
       "       [11.9266055 , 27.0733945 ],\n",
       "       [28.44036697, 64.55963303]])"
      ]
     },
     "execution_count": 28,
     "metadata": {},
     "output_type": "execute_result"
    }
   ],
   "source": [
    "expected_value1"
   ]
  },
  {
   "cell_type": "code",
   "execution_count": 29,
   "id": "7fb90385",
   "metadata": {},
   "outputs": [],
   "source": [
    "alpha1=0.05"
   ]
  },
  {
   "cell_type": "code",
   "execution_count": 30,
   "id": "18132fba",
   "metadata": {},
   "outputs": [],
   "source": [
    "x1_critical=st.chi2.ppf(1-alpha1,2)"
   ]
  },
  {
   "cell_type": "code",
   "execution_count": 31,
   "id": "37614724",
   "metadata": {},
   "outputs": [
    {
     "data": {
      "text/plain": [
       "5.991464547107979"
      ]
     },
     "execution_count": 31,
     "metadata": {},
     "output_type": "execute_result"
    }
   ],
   "source": [
    "x1_critical"
   ]
  },
  {
   "cell_type": "code",
   "execution_count": 32,
   "id": "d11863eb",
   "metadata": {},
   "outputs": [],
   "source": [
    "# p_value<alpha: Reject the null hypo.\n",
    "#x_stat>xcritical: Reject the null hypo."
   ]
  },
  {
   "cell_type": "markdown",
   "id": "18735a30",
   "metadata": {},
   "source": [
    "**frequency distribution of female does not matches male**"
   ]
  },
  {
   "cell_type": "code",
   "execution_count": 34,
   "id": "fafeadce",
   "metadata": {},
   "outputs": [
    {
     "data": {
      "text/plain": [
       "[<matplotlib.lines.Line2D at 0x268b26e0af0>]"
      ]
     },
     "execution_count": 34,
     "metadata": {},
     "output_type": "execute_result"
    },
    {
     "data": {
      "image/png": "[encoded data removed]",
      "text/plain": [
       "<Figure size 640x480 with 1 Axes>"
      ]
     },
     "metadata": {},
     "output_type": "display_data"
    }
   ],
   "source": [
    "val=np.arange(0,10,0.02)\n",
    "plt.plot(val,st.chi2.pdf(val,df1))"
   ]
  },
  {
   "cell_type": "code",
   "execution_count": null,
   "id": "f9290975",
   "metadata": {},
   "outputs": [],
   "source": []
  }
 ],
 "metadata": {
  "kernelspec": {
   "display_name": "Python 3 (ipykernel)",
   "language": "python",
   "name": "python3"
  },
  "language_info": {
   "codemirror_mode": {
    "name": "ipython",
    "version": 3
   },
   "file_extension": ".py",
   "mimetype": "text/x-python",
   "name": "python",
   "nbconvert_exporter": "python",
   "pygments_lexer": "ipython3",
   "version": "3.10.9"
  }
 },
 "nbformat": 4,
 "nbformat_minor": 5
}
